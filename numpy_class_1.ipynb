{
 "cells": [
  {
   "cell_type": "code",
   "execution_count": 1,
   "id": "2a389d19",
   "metadata": {},
   "outputs": [],
   "source": [
    "import numpy as np"
   ]
  },
  {
   "cell_type": "code",
   "execution_count": 2,
   "id": "6be3e432",
   "metadata": {},
   "outputs": [],
   "source": [
    "import pandas as pd"
   ]
  },
  {
   "cell_type": "code",
   "execution_count": 3,
   "id": "91402616",
   "metadata": {},
   "outputs": [
    {
     "data": {
      "text/plain": [
       "'1.20.3'"
      ]
     },
     "execution_count": 3,
     "metadata": {},
     "output_type": "execute_result"
    }
   ],
   "source": [
    "np.__version__"
   ]
  },
  {
   "cell_type": "code",
   "execution_count": 4,
   "id": "dc86b8e6",
   "metadata": {},
   "outputs": [],
   "source": [
    "a = (1,2,3,4,5)\n",
    "b = np.array(a)"
   ]
  },
  {
   "cell_type": "code",
   "execution_count": 5,
   "id": "9026a79e",
   "metadata": {},
   "outputs": [
    {
     "name": "stdout",
     "output_type": "stream",
     "text": [
      "[1 2 3 4 5]\n",
      "<class 'numpy.ndarray'>\n"
     ]
    }
   ],
   "source": [
    "print(b)\n",
    "print(type(b))"
   ]
  },
  {
   "cell_type": "markdown",
   "id": "5dae4dec",
   "metadata": {},
   "source": [
    "# Speed comparison : Numpy vs Core Python"
   ]
  },
  {
   "cell_type": "code",
   "execution_count": 6,
   "id": "71079db2",
   "metadata": {},
   "outputs": [
    {
     "name": "stdout",
     "output_type": "stream",
     "text": [
      "1670044572.8049645\n"
     ]
    }
   ],
   "source": [
    "import time as tm\n",
    "time_python = tm.time()\n",
    "print(time_python)"
   ]
  },
  {
   "cell_type": "code",
   "execution_count": 7,
   "id": "e148024b",
   "metadata": {},
   "outputs": [
    {
     "name": "stdout",
     "output_type": "stream",
     "text": [
      "pure python version= 0.022566556930541992\n",
      "numpy = 0.0010027885437011719\n"
     ]
    }
   ],
   "source": [
    "import time as tm\n",
    "import numpy as np\n",
    "size_l = 100000\n",
    "\n",
    "def pure_python_version():\n",
    "    time_python = tm.time()\n",
    "    list1 = range(size_l)\n",
    "    list2 = range(size_l)\n",
    "    sum_list = [list1[i]+list2[i] for i in range(len(list1))]\n",
    "    return tm.time() - time_python\n",
    "\n",
    "def numpy_version():\n",
    "    time_numpy = tm.time()\n",
    "    array1 = np.arange(size_l)\n",
    "    array2 = np.arange(size_l)\n",
    "    sum_array = array1 + array2\n",
    "    return tm.time() - time_numpy\n",
    "\n",
    "python_time = pure_python_version()\n",
    "numpy_time = numpy_version()\n",
    "\n",
    "print(\"pure python version=\",format(python_time))  # To print an object during the run-time\n",
    "print(\"numpy =\",format(numpy_time))"
   ]
  },
  {
   "cell_type": "code",
   "execution_count": 8,
   "id": "1419eab3",
   "metadata": {},
   "outputs": [
    {
     "name": "stdout",
     "output_type": "stream",
     "text": [
      "Time elapsed for Core Python Version :  0.024632930755615234\n",
      "Time elapsed for Numpy Version :  0.0009961128234863281\n"
     ]
    }
   ],
   "source": [
    "import pandas as pd\n",
    "import numpy as np\n",
    "import time as tm\n",
    "\n",
    "size_l = 100000\n",
    "\n",
    "def core_python_version():\n",
    "    time_python = tm.time()\n",
    "    list1 = range(size_l)\n",
    "    list2 = range(size_l)\n",
    "    sum_list = [list1[i]+list2[i] for i in range(len(list1))]\n",
    "    return tm.time() - time_python\n",
    "\n",
    "def numpy_version():\n",
    "    numpy_time = tm.time()\n",
    "    array1 = np.arange(size_l)\n",
    "    array2 = np.arange(size_l)\n",
    "    sum_array = array1 + array2\n",
    "    return tm.time() - numpy_time\n",
    "\n",
    "python_time = core_python_version()\n",
    "numpy_time = numpy_version()\n",
    "\n",
    "print(\"Time elapsed for Core Python Version : \", python_time)\n",
    "print(\"Time elapsed for Numpy Version : \", numpy_time)"
   ]
  },
  {
   "cell_type": "markdown",
   "id": "cf08d6ad",
   "metadata": {},
   "source": [
    "# Creating array"
   ]
  },
  {
   "cell_type": "code",
   "execution_count": 9,
   "id": "5f832068",
   "metadata": {},
   "outputs": [
    {
     "name": "stdout",
     "output_type": "stream",
     "text": [
      "[1, 2, 3, 4, 5, 6]\n"
     ]
    }
   ],
   "source": [
    "my_list = [1,2,3,4,5,6]\n",
    "print(my_list)"
   ]
  },
  {
   "cell_type": "code",
   "execution_count": 10,
   "id": "705043ea",
   "metadata": {},
   "outputs": [],
   "source": [
    "my_array = np.array(my_list)"
   ]
  },
  {
   "cell_type": "code",
   "execution_count": 11,
   "id": "af3a1a21",
   "metadata": {},
   "outputs": [
    {
     "data": {
      "text/plain": [
       "array([1, 2, 3, 4, 5, 6])"
      ]
     },
     "execution_count": 11,
     "metadata": {},
     "output_type": "execute_result"
    }
   ],
   "source": [
    "my_array"
   ]
  },
  {
   "cell_type": "code",
   "execution_count": 12,
   "id": "39728336",
   "metadata": {},
   "outputs": [],
   "source": [
    "array_2 = [[1,2,3,4],[4,5,6,7]]"
   ]
  },
  {
   "cell_type": "code",
   "execution_count": 13,
   "id": "1fa41389",
   "metadata": {},
   "outputs": [
    {
     "data": {
      "text/plain": [
       "[[1, 2, 3, 4], [4, 5, 6, 7]]"
      ]
     },
     "execution_count": 13,
     "metadata": {},
     "output_type": "execute_result"
    }
   ],
   "source": [
    "array_2"
   ]
  },
  {
   "cell_type": "code",
   "execution_count": 14,
   "id": "d7854bde",
   "metadata": {},
   "outputs": [],
   "source": [
    "array_3 = np.array(array_2)"
   ]
  },
  {
   "cell_type": "code",
   "execution_count": 15,
   "id": "7cccaf92",
   "metadata": {},
   "outputs": [
    {
     "data": {
      "text/plain": [
       "array([[1, 2, 3, 4],\n",
       "       [4, 5, 6, 7]])"
      ]
     },
     "execution_count": 15,
     "metadata": {},
     "output_type": "execute_result"
    }
   ],
   "source": [
    "array_3"
   ]
  },
  {
   "cell_type": "code",
   "execution_count": 16,
   "id": "6f4cb241",
   "metadata": {},
   "outputs": [
    {
     "data": {
      "text/plain": [
       "numpy.ndarray"
      ]
     },
     "execution_count": 16,
     "metadata": {},
     "output_type": "execute_result"
    }
   ],
   "source": [
    "type(array_3)"
   ]
  },
  {
   "cell_type": "code",
   "execution_count": 17,
   "id": "86f0785b",
   "metadata": {},
   "outputs": [],
   "source": [
    "a = np.array([1,2,3,4,5,6], ndmin = 2)    "
   ]
  },
  {
   "cell_type": "code",
   "execution_count": 18,
   "id": "2aceaad8",
   "metadata": {},
   "outputs": [
    {
     "data": {
      "text/plain": [
       "array([[1, 2, 3, 4, 5, 6]])"
      ]
     },
     "execution_count": 18,
     "metadata": {},
     "output_type": "execute_result"
    }
   ],
   "source": [
    "a"
   ]
  },
  {
   "cell_type": "code",
   "execution_count": 19,
   "id": "52356b1f",
   "metadata": {},
   "outputs": [
    {
     "data": {
      "text/plain": [
       "numpy.ndarray"
      ]
     },
     "execution_count": 19,
     "metadata": {},
     "output_type": "execute_result"
    }
   ],
   "source": [
    "type(a)"
   ]
  },
  {
   "cell_type": "code",
   "execution_count": 20,
   "id": "c2d09873",
   "metadata": {},
   "outputs": [],
   "source": [
    "a = np.array([1,2,3,4,5,6], ndmin = 4)    "
   ]
  },
  {
   "cell_type": "code",
   "execution_count": 21,
   "id": "68dc7cb8",
   "metadata": {},
   "outputs": [
    {
     "data": {
      "text/plain": [
       "array([[[[1, 2, 3, 4, 5, 6]]]])"
      ]
     },
     "execution_count": 21,
     "metadata": {},
     "output_type": "execute_result"
    }
   ],
   "source": [
    "a"
   ]
  },
  {
   "cell_type": "code",
   "execution_count": 22,
   "id": "7b4ccdcc",
   "metadata": {},
   "outputs": [
    {
     "data": {
      "text/plain": [
       "numpy.ndarray"
      ]
     },
     "execution_count": 22,
     "metadata": {},
     "output_type": "execute_result"
    }
   ],
   "source": [
    "type(a)"
   ]
  },
  {
   "cell_type": "code",
   "execution_count": 23,
   "id": "de70a06c",
   "metadata": {},
   "outputs": [],
   "source": [
    "a = np.array([1,2,3,4,5,6], ndmin = 0)    "
   ]
  },
  {
   "cell_type": "code",
   "execution_count": 24,
   "id": "6f978570",
   "metadata": {},
   "outputs": [
    {
     "data": {
      "text/plain": [
       "array([1, 2, 3, 4, 5, 6])"
      ]
     },
     "execution_count": 24,
     "metadata": {},
     "output_type": "execute_result"
    }
   ],
   "source": [
    "a"
   ]
  },
  {
   "cell_type": "code",
   "execution_count": 25,
   "id": "cf2f4b92",
   "metadata": {},
   "outputs": [
    {
     "data": {
      "text/plain": [
       "dtype('int32')"
      ]
     },
     "execution_count": 25,
     "metadata": {},
     "output_type": "execute_result"
    }
   ],
   "source": [
    "a.dtype"
   ]
  },
  {
   "cell_type": "code",
   "execution_count": 26,
   "id": "14182f9d",
   "metadata": {},
   "outputs": [
    {
     "data": {
      "text/plain": [
       "numpy.ndarray"
      ]
     },
     "execution_count": 26,
     "metadata": {},
     "output_type": "execute_result"
    }
   ],
   "source": [
    "type(a)"
   ]
  },
  {
   "cell_type": "code",
   "execution_count": 27,
   "id": "0fd07220",
   "metadata": {},
   "outputs": [
    {
     "data": {
      "text/plain": [
       "2"
      ]
     },
     "execution_count": 27,
     "metadata": {},
     "output_type": "execute_result"
    }
   ],
   "source": [
    "len(array_2)"
   ]
  },
  {
   "cell_type": "code",
   "execution_count": 28,
   "id": "3bbe6b30",
   "metadata": {},
   "outputs": [],
   "source": [
    "list3 = [[1,2,3],[4,5,6],[7,8,9]]\n",
    "array3 = np.array(list3)"
   ]
  },
  {
   "cell_type": "code",
   "execution_count": 29,
   "id": "10d6c2f9",
   "metadata": {},
   "outputs": [
    {
     "data": {
      "text/plain": [
       "array([[1, 2, 3],\n",
       "       [4, 5, 6],\n",
       "       [7, 8, 9]])"
      ]
     },
     "execution_count": 29,
     "metadata": {},
     "output_type": "execute_result"
    }
   ],
   "source": [
    "array3"
   ]
  },
  {
   "cell_type": "code",
   "execution_count": 30,
   "id": "e401b3e1",
   "metadata": {},
   "outputs": [
    {
     "data": {
      "text/plain": [
       "9"
      ]
     },
     "execution_count": 30,
     "metadata": {},
     "output_type": "execute_result"
    }
   ],
   "source": [
    "array3[2][2]  #indexing 2nd element from 3rd row of the array"
   ]
  },
  {
   "cell_type": "code",
   "execution_count": 31,
   "id": "7257bfeb",
   "metadata": {},
   "outputs": [
    {
     "data": {
      "text/plain": [
       "array([2, 5, 8])"
      ]
     },
     "execution_count": 31,
     "metadata": {},
     "output_type": "execute_result"
    }
   ],
   "source": [
    "# Accessing the column\n",
    "array3[:,1]  #Column 1 from all rows"
   ]
  },
  {
   "cell_type": "code",
   "execution_count": 32,
   "id": "e52454dd",
   "metadata": {},
   "outputs": [
    {
     "data": {
      "text/plain": [
       "array([7, 8, 9])"
      ]
     },
     "execution_count": 32,
     "metadata": {},
     "output_type": "execute_result"
    }
   ],
   "source": [
    "array3[2,:]  #All columns from the row 2"
   ]
  },
  {
   "cell_type": "code",
   "execution_count": 33,
   "id": "3fae5573",
   "metadata": {},
   "outputs": [
    {
     "data": {
      "text/plain": [
       "array([[6],\n",
       "       [9]])"
      ]
     },
     "execution_count": 33,
     "metadata": {},
     "output_type": "execute_result"
    }
   ],
   "source": [
    "array3[1:3,2:3]"
   ]
  },
  {
   "cell_type": "code",
   "execution_count": 34,
   "id": "3e5fb4a8",
   "metadata": {},
   "outputs": [
    {
     "data": {
      "text/plain": [
       "array([[2],\n",
       "       [5]])"
      ]
     },
     "execution_count": 34,
     "metadata": {},
     "output_type": "execute_result"
    }
   ],
   "source": [
    "array3[0:2,1:2]"
   ]
  },
  {
   "cell_type": "markdown",
   "id": "ddaba575",
   "metadata": {},
   "source": [
    "# Array Attributes"
   ]
  },
  {
   "cell_type": "code",
   "execution_count": 35,
   "id": "1d66a589",
   "metadata": {},
   "outputs": [
    {
     "data": {
      "text/plain": [
       "(3, 3)"
      ]
     },
     "execution_count": 35,
     "metadata": {},
     "output_type": "execute_result"
    }
   ],
   "source": [
    "array3.shape  #Returns Rows*Columns"
   ]
  },
  {
   "cell_type": "code",
   "execution_count": 36,
   "id": "17cd32da",
   "metadata": {},
   "outputs": [
    {
     "data": {
      "text/plain": [
       "2"
      ]
     },
     "execution_count": 36,
     "metadata": {},
     "output_type": "execute_result"
    }
   ],
   "source": [
    "array3.ndim  #For checking dimension of array"
   ]
  },
  {
   "cell_type": "markdown",
   "id": "2a3bc9cc",
   "metadata": {},
   "source": [
    "# Array Initialization"
   ]
  },
  {
   "cell_type": "code",
   "execution_count": 37,
   "id": "7b835409",
   "metadata": {},
   "outputs": [
    {
     "data": {
      "text/plain": [
       "dtype('int32')"
      ]
     },
     "execution_count": 37,
     "metadata": {},
     "output_type": "execute_result"
    }
   ],
   "source": [
    "array3.dtype"
   ]
  },
  {
   "cell_type": "code",
   "execution_count": 38,
   "id": "56a4d3bc",
   "metadata": {},
   "outputs": [
    {
     "data": {
      "text/plain": [
       "array([ 1,  2,  3,  4,  5,  6,  7,  8,  9, 10])"
      ]
     },
     "execution_count": 38,
     "metadata": {},
     "output_type": "execute_result"
    }
   ],
   "source": [
    "np.arange(1,11)"
   ]
  },
  {
   "cell_type": "code",
   "execution_count": 39,
   "id": "228445d1",
   "metadata": {},
   "outputs": [
    {
     "data": {
      "text/plain": [
       "array([ 1,  4,  7, 10])"
      ]
     },
     "execution_count": 39,
     "metadata": {},
     "output_type": "execute_result"
    }
   ],
   "source": [
    "np.arange(1,11,3) #(start, end, space)"
   ]
  },
  {
   "cell_type": "code",
   "execution_count": 40,
   "id": "84edbb0e",
   "metadata": {},
   "outputs": [
    {
     "data": {
      "text/plain": [
       "array([0, 0, 0, 0, 0, 0, 0, 0, 0, 0])"
      ]
     },
     "execution_count": 40,
     "metadata": {},
     "output_type": "execute_result"
    }
   ],
   "source": [
    "np.zeros(10, dtype = int)"
   ]
  },
  {
   "cell_type": "code",
   "execution_count": 41,
   "id": "ffa8ca14",
   "metadata": {},
   "outputs": [
    {
     "data": {
      "text/plain": [
       "array([[0, 0],\n",
       "       [0, 0],\n",
       "       [0, 0]])"
      ]
     },
     "execution_count": 41,
     "metadata": {},
     "output_type": "execute_result"
    }
   ],
   "source": [
    "np.zeros((3,2), dtype =int)"
   ]
  },
  {
   "cell_type": "code",
   "execution_count": 42,
   "id": "205eeab3",
   "metadata": {},
   "outputs": [
    {
     "data": {
      "text/plain": [
       "array([[1., 1.],\n",
       "       [1., 1.],\n",
       "       [1., 1.]])"
      ]
     },
     "execution_count": 42,
     "metadata": {},
     "output_type": "execute_result"
    }
   ],
   "source": [
    "np.ones((3,2))"
   ]
  },
  {
   "cell_type": "code",
   "execution_count": 43,
   "id": "5a2ca7e5",
   "metadata": {},
   "outputs": [
    {
     "data": {
      "text/plain": [
       "array([[1, 1, 1],\n",
       "       [1, 1, 1],\n",
       "       [1, 1, 1],\n",
       "       [1, 1, 1]])"
      ]
     },
     "execution_count": 43,
     "metadata": {},
     "output_type": "execute_result"
    }
   ],
   "source": [
    "np.ones((4,3), dtype = int)"
   ]
  },
  {
   "cell_type": "code",
   "execution_count": 44,
   "id": "5a1eac94",
   "metadata": {},
   "outputs": [
    {
     "data": {
      "text/plain": [
       "array([1.        , 1.33333333, 1.66666667, 2.        , 2.33333333,\n",
       "       2.66666667, 3.        , 3.33333333, 3.66666667, 4.        ])"
      ]
     },
     "execution_count": 44,
     "metadata": {},
     "output_type": "execute_result"
    }
   ],
   "source": [
    "np.linspace(1,4,10) # (start, end, no. of values) -- Both start and stop are included  ---(4-1)/10 +............"
   ]
  },
  {
   "cell_type": "code",
   "execution_count": 45,
   "id": "5fedf407",
   "metadata": {},
   "outputs": [
    {
     "data": {
      "text/plain": [
       "array([3.        , 3.11111111, 3.22222222, 3.33333333, 3.44444444,\n",
       "       3.55555556, 3.66666667, 3.77777778, 3.88888889, 4.        ])"
      ]
     },
     "execution_count": 45,
     "metadata": {},
     "output_type": "execute_result"
    }
   ],
   "source": [
    "np.linspace(3,4,10) # (start, end, no. of values) -- Both start and stop are included  ---(4-1)/10 +............"
   ]
  },
  {
   "cell_type": "code",
   "execution_count": 46,
   "id": "382621ee",
   "metadata": {},
   "outputs": [
    {
     "data": {
      "text/plain": [
       "array([[3.        , 3.11111111],\n",
       "       [3.22222222, 3.33333333],\n",
       "       [3.44444444, 3.55555556],\n",
       "       [3.66666667, 3.77777778],\n",
       "       [3.88888889, 4.        ]])"
      ]
     },
     "execution_count": 46,
     "metadata": {},
     "output_type": "execute_result"
    }
   ],
   "source": [
    "np.linspace(3,4,10).reshape(5,2)  #reshape(a,b) should be a multiple of 10(no. of values)"
   ]
  },
  {
   "cell_type": "code",
   "execution_count": 47,
   "id": "7918758b",
   "metadata": {},
   "outputs": [
    {
     "data": {
      "text/plain": [
       "array([[1., 0., 0., 0.],\n",
       "       [0., 1., 0., 0.],\n",
       "       [0., 0., 1., 0.],\n",
       "       [0., 0., 0., 1.]])"
      ]
     },
     "execution_count": 47,
     "metadata": {},
     "output_type": "execute_result"
    }
   ],
   "source": [
    "np.eye(4,4) #Identity matrix -- all the elements in diagonal will be 1"
   ]
  },
  {
   "cell_type": "markdown",
   "id": "ef2a8010",
   "metadata": {},
   "source": [
    "# Array Initialization with Random Numbers"
   ]
  },
  {
   "cell_type": "code",
   "execution_count": 48,
   "id": "1d3ba42a",
   "metadata": {},
   "outputs": [
    {
     "data": {
      "text/plain": [
       "array([0.16930247, 0.1010534 , 0.66635775])"
      ]
     },
     "execution_count": 48,
     "metadata": {},
     "output_type": "execute_result"
    }
   ],
   "source": [
    "np.random.rand(3)"
   ]
  },
  {
   "cell_type": "code",
   "execution_count": 49,
   "id": "ed9ab04b",
   "metadata": {},
   "outputs": [
    {
     "data": {
      "text/plain": [
       "array([0.22672201, 0.08976175])"
      ]
     },
     "execution_count": 49,
     "metadata": {},
     "output_type": "execute_result"
    }
   ],
   "source": [
    "np.random.rand(2) # Any random function between 0 to 1"
   ]
  },
  {
   "cell_type": "code",
   "execution_count": 50,
   "id": "c670ce09",
   "metadata": {},
   "outputs": [
    {
     "data": {
      "text/plain": [
       "548"
      ]
     },
     "execution_count": 50,
     "metadata": {},
     "output_type": "execute_result"
    }
   ],
   "source": [
    "np.random.randint(1,1000)"
   ]
  },
  {
   "cell_type": "code",
   "execution_count": 51,
   "id": "5f902887",
   "metadata": {},
   "outputs": [
    {
     "data": {
      "text/plain": [
       "array([[0.66973732, 0.1495597 , 0.05362625],\n",
       "       [0.04215358, 0.14143238, 0.6392841 ],\n",
       "       [0.17623637, 0.81913509, 0.0206384 ]])"
      ]
     },
     "execution_count": 51,
     "metadata": {},
     "output_type": "execute_result"
    }
   ],
   "source": [
    "np.random.rand(9).reshape(3,3)"
   ]
  },
  {
   "cell_type": "markdown",
   "id": "59b94a30",
   "metadata": {},
   "source": [
    "# Indexing arrays"
   ]
  },
  {
   "cell_type": "code",
   "execution_count": 52,
   "id": "a46c0333",
   "metadata": {},
   "outputs": [
    {
     "data": {
      "text/plain": [
       "[1, 2, 3, 4, 5, 6]"
      ]
     },
     "execution_count": 52,
     "metadata": {},
     "output_type": "execute_result"
    }
   ],
   "source": [
    "array1 = [1,2,3,4,5,6]\n",
    "array1"
   ]
  },
  {
   "cell_type": "code",
   "execution_count": 53,
   "id": "c21a3d3b",
   "metadata": {},
   "outputs": [
    {
     "data": {
      "text/plain": [
       "3"
      ]
     },
     "execution_count": 53,
     "metadata": {},
     "output_type": "execute_result"
    }
   ],
   "source": [
    "array1[2]"
   ]
  },
  {
   "cell_type": "code",
   "execution_count": 54,
   "id": "717f076b",
   "metadata": {},
   "outputs": [
    {
     "data": {
      "text/plain": [
       "[3, 4]"
      ]
     },
     "execution_count": 54,
     "metadata": {},
     "output_type": "execute_result"
    }
   ],
   "source": [
    "array1[2:4]"
   ]
  },
  {
   "cell_type": "code",
   "execution_count": 55,
   "id": "11ae4cf4",
   "metadata": {},
   "outputs": [
    {
     "data": {
      "text/plain": [
       "[4, 5]"
      ]
     },
     "execution_count": 55,
     "metadata": {},
     "output_type": "execute_result"
    }
   ],
   "source": [
    "array1[-3:-1]"
   ]
  },
  {
   "cell_type": "code",
   "execution_count": 56,
   "id": "4435e622",
   "metadata": {},
   "outputs": [],
   "source": [
    "array2 = np.array(array1)"
   ]
  },
  {
   "cell_type": "code",
   "execution_count": 57,
   "id": "ae572a33",
   "metadata": {},
   "outputs": [
    {
     "data": {
      "text/plain": [
       "array([1, 2, 3, 4, 5, 6])"
      ]
     },
     "execution_count": 57,
     "metadata": {},
     "output_type": "execute_result"
    }
   ],
   "source": [
    "array2"
   ]
  },
  {
   "cell_type": "code",
   "execution_count": 58,
   "id": "250f671f",
   "metadata": {},
   "outputs": [],
   "source": [
    "array2[2:4] = 9"
   ]
  },
  {
   "cell_type": "code",
   "execution_count": 59,
   "id": "3cd6fb8a",
   "metadata": {},
   "outputs": [
    {
     "data": {
      "text/plain": [
       "array([1, 2, 9, 9, 5, 6])"
      ]
     },
     "execution_count": 59,
     "metadata": {},
     "output_type": "execute_result"
    }
   ],
   "source": [
    "array2"
   ]
  },
  {
   "cell_type": "code",
   "execution_count": 60,
   "id": "971c8994",
   "metadata": {},
   "outputs": [
    {
     "name": "stdout",
     "output_type": "stream",
     "text": [
      "[[1 2 3]\n",
      " [4 5 6]\n",
      " [7 8 9]]\n"
     ]
    }
   ],
   "source": [
    "a = [[1,2,3],[4,5,6],[7,8,9]]\n",
    "x = np.array(a)\n",
    "print(x)"
   ]
  },
  {
   "cell_type": "code",
   "execution_count": 61,
   "id": "9e1cc99d",
   "metadata": {},
   "outputs": [
    {
     "data": {
      "text/plain": [
       "1"
      ]
     },
     "execution_count": 61,
     "metadata": {},
     "output_type": "execute_result"
    }
   ],
   "source": [
    "x.min()"
   ]
  },
  {
   "cell_type": "code",
   "execution_count": 62,
   "id": "96ec2e7f",
   "metadata": {},
   "outputs": [
    {
     "data": {
      "text/plain": [
       "9"
      ]
     },
     "execution_count": 62,
     "metadata": {},
     "output_type": "execute_result"
    }
   ],
   "source": [
    "x.max()"
   ]
  },
  {
   "cell_type": "code",
   "execution_count": 63,
   "id": "c543c3fc",
   "metadata": {},
   "outputs": [
    {
     "data": {
      "text/plain": [
       "5.0"
      ]
     },
     "execution_count": 63,
     "metadata": {},
     "output_type": "execute_result"
    }
   ],
   "source": [
    "x.mean()"
   ]
  },
  {
   "cell_type": "code",
   "execution_count": 64,
   "id": "9bf9c199",
   "metadata": {},
   "outputs": [
    {
     "data": {
      "text/plain": [
       "0"
      ]
     },
     "execution_count": 64,
     "metadata": {},
     "output_type": "execute_result"
    }
   ],
   "source": [
    "x.argmin()"
   ]
  },
  {
   "cell_type": "code",
   "execution_count": 65,
   "id": "0f38c3fc",
   "metadata": {},
   "outputs": [
    {
     "data": {
      "text/plain": [
       "8"
      ]
     },
     "execution_count": 65,
     "metadata": {},
     "output_type": "execute_result"
    }
   ],
   "source": [
    "x.argmax()"
   ]
  },
  {
   "cell_type": "code",
   "execution_count": 66,
   "id": "136150fc",
   "metadata": {},
   "outputs": [],
   "source": [
    "x.sort()"
   ]
  },
  {
   "cell_type": "code",
   "execution_count": 67,
   "id": "e6999ea8",
   "metadata": {},
   "outputs": [
    {
     "data": {
      "text/plain": [
       "array([[1],\n",
       "       [2],\n",
       "       [3],\n",
       "       [4],\n",
       "       [5],\n",
       "       [6],\n",
       "       [7],\n",
       "       [8],\n",
       "       [9]])"
      ]
     },
     "execution_count": 67,
     "metadata": {},
     "output_type": "execute_result"
    }
   ],
   "source": [
    "x.reshape(9,1)"
   ]
  },
  {
   "cell_type": "code",
   "execution_count": 68,
   "id": "cc3e402c",
   "metadata": {},
   "outputs": [
    {
     "data": {
      "text/plain": [
       "array([[1, 2, 3],\n",
       "       [4, 5, 6],\n",
       "       [7, 8, 9]])"
      ]
     },
     "execution_count": 68,
     "metadata": {},
     "output_type": "execute_result"
    }
   ],
   "source": [
    "x.reshape(3,3)"
   ]
  },
  {
   "cell_type": "code",
   "execution_count": 69,
   "id": "438ab1fd",
   "metadata": {},
   "outputs": [
    {
     "data": {
      "text/plain": [
       "array([1, 2, 3, 4, 5, 6, 7, 8, 9])"
      ]
     },
     "execution_count": 69,
     "metadata": {},
     "output_type": "execute_result"
    }
   ],
   "source": [
    "x.flatten()"
   ]
  },
  {
   "cell_type": "code",
   "execution_count": 70,
   "id": "a588bcb2",
   "metadata": {},
   "outputs": [
    {
     "data": {
      "text/plain": [
       "array([[1, 4, 7],\n",
       "       [2, 5, 8],\n",
       "       [3, 6, 9]])"
      ]
     },
     "execution_count": 70,
     "metadata": {},
     "output_type": "execute_result"
    }
   ],
   "source": [
    "x.transpose()"
   ]
  },
  {
   "cell_type": "markdown",
   "id": "4bb64a2c",
   "metadata": {},
   "source": [
    "# Maths"
   ]
  },
  {
   "cell_type": "code",
   "execution_count": 71,
   "id": "97bc59f1",
   "metadata": {},
   "outputs": [
    {
     "name": "stdout",
     "output_type": "stream",
     "text": [
      "Adding to Arrays : \n",
      "[[ 5. 11. 12.]\n",
      " [22. 23. 24.]\n",
      " [32. 33. 34.]]\n",
      "Subtracting to Arrays : \n",
      "[[ 3.  9. 10.]\n",
      " [20. 21. 22.]\n",
      " [30. 31. 32.]]\n",
      "Multiplication to Scalar : \n",
      "[[12 30 33]\n",
      " [63 66 69]\n",
      " [93 96 99]]\n",
      "Matrix Multiplication : \n",
      "[[25. 25. 25.]\n",
      " [66. 66. 66.]\n",
      " [96. 96. 96.]]\n"
     ]
    }
   ],
   "source": [
    "import numpy as np\n",
    "A = np.array([[4,10,11],[21,22,23],[31,32,33]])\n",
    "B = np.ones((3,3))\n",
    "print(\"Adding to Arrays : \")\n",
    "print(A+B)\n",
    "print(\"Subtracting to Arrays : \")\n",
    "print(A-B)\n",
    "print(\"Multiplication to Scalar : \")\n",
    "print(3*A)\n",
    "print(\"Matrix Multiplication : \")\n",
    "print(np.dot(A,B))"
   ]
  },
  {
   "cell_type": "code",
   "execution_count": 72,
   "id": "70eb57db",
   "metadata": {},
   "outputs": [
    {
     "name": "stdout",
     "output_type": "stream",
     "text": [
      "[[12. 24.]\n",
      " [33. 46.]]\n",
      "[[11.7 23.7]\n",
      " [33.2 45.9]]\n",
      "[[11.67 23.66]\n",
      " [33.21 45.89]]\n"
     ]
    }
   ],
   "source": [
    "a = np.array([[11.667,23.662], [33.21, 45.887]])\n",
    "print(np.around(a))\n",
    "print(np.around(a, decimals =1))\n",
    "print(np.around(a, decimals =2))"
   ]
  },
  {
   "cell_type": "markdown",
   "id": "24853ed0",
   "metadata": {},
   "source": [
    "# Stats"
   ]
  },
  {
   "cell_type": "code",
   "execution_count": 73,
   "id": "d9360788",
   "metadata": {},
   "outputs": [
    {
     "data": {
      "text/plain": [
       "187"
      ]
     },
     "execution_count": 73,
     "metadata": {},
     "output_type": "execute_result"
    }
   ],
   "source": [
    "A.sum()"
   ]
  },
  {
   "cell_type": "code",
   "execution_count": 74,
   "id": "1e3701fa",
   "metadata": {},
   "outputs": [
    {
     "data": {
      "text/plain": [
       "20.77777777777778"
      ]
     },
     "execution_count": 74,
     "metadata": {},
     "output_type": "execute_result"
    }
   ],
   "source": [
    "A.mean()"
   ]
  },
  {
   "cell_type": "code",
   "execution_count": 75,
   "id": "ec7947b1",
   "metadata": {},
   "outputs": [
    {
     "data": {
      "text/plain": [
       "9.88576729757121"
      ]
     },
     "execution_count": 75,
     "metadata": {},
     "output_type": "execute_result"
    }
   ],
   "source": [
    "np.std(A)"
   ]
  },
  {
   "cell_type": "code",
   "execution_count": 76,
   "id": "5fe4fc55",
   "metadata": {},
   "outputs": [
    {
     "data": {
      "text/plain": [
       "22.0"
      ]
     },
     "execution_count": 76,
     "metadata": {},
     "output_type": "execute_result"
    }
   ],
   "source": [
    "np.median(A)"
   ]
  },
  {
   "cell_type": "code",
   "execution_count": 77,
   "id": "02d009fb",
   "metadata": {},
   "outputs": [
    {
     "data": {
      "text/plain": [
       "array([[0., 0., 0.],\n",
       "       [0., 0., 0.],\n",
       "       [0., 0., 0.]])"
      ]
     },
     "execution_count": 77,
     "metadata": {},
     "output_type": "execute_result"
    }
   ],
   "source": [
    "np.mod(A,B)"
   ]
  },
  {
   "cell_type": "code",
   "execution_count": 78,
   "id": "e6ce46e6",
   "metadata": {},
   "outputs": [
    {
     "data": {
      "text/plain": [
       "97.72839506172839"
      ]
     },
     "execution_count": 78,
     "metadata": {},
     "output_type": "execute_result"
    }
   ],
   "source": [
    "np.var(A)"
   ]
  },
  {
   "cell_type": "markdown",
   "id": "f3bf4b55",
   "metadata": {},
   "source": [
    "# Binary Universal Functions"
   ]
  },
  {
   "cell_type": "code",
   "execution_count": 79,
   "id": "a1e2ed9a",
   "metadata": {},
   "outputs": [
    {
     "data": {
      "text/plain": [
       "array([[False, False, False],\n",
       "       [ True,  True,  True]])"
      ]
     },
     "execution_count": 79,
     "metadata": {},
     "output_type": "execute_result"
    }
   ],
   "source": [
    "A = [[1,2,3],[3,4,5]]\n",
    "B = [[3,3,4],[1,2,0]]\n",
    "a = np.array(A)\n",
    "b = np.array(B)\n",
    "np.greater_equal(a,b)"
   ]
  },
  {
   "cell_type": "code",
   "execution_count": 80,
   "id": "574f02c5",
   "metadata": {},
   "outputs": [
    {
     "data": {
      "text/plain": [
       "array([[ True,  True,  True],\n",
       "       [False, False, False]])"
      ]
     },
     "execution_count": 80,
     "metadata": {},
     "output_type": "execute_result"
    }
   ],
   "source": [
    "A = [[1,2,3],[3,4,5]]\n",
    "B = [[3,3,4],[1,2,0]]\n",
    "a = np.array(A)\n",
    "b = np.array(B)\n",
    "np.less_equal(a,b)"
   ]
  },
  {
   "cell_type": "code",
   "execution_count": 81,
   "id": "7d523b21",
   "metadata": {},
   "outputs": [
    {
     "data": {
      "text/plain": [
       "array([[ True,  True,  True],\n",
       "       [False, False, False]])"
      ]
     },
     "execution_count": 81,
     "metadata": {},
     "output_type": "execute_result"
    }
   ],
   "source": [
    "np.less(a,b)"
   ]
  },
  {
   "cell_type": "code",
   "execution_count": 82,
   "id": "d81aba75",
   "metadata": {},
   "outputs": [
    {
     "data": {
      "text/plain": [
       "array([[False, False, False],\n",
       "       [ True,  True,  True]])"
      ]
     },
     "execution_count": 82,
     "metadata": {},
     "output_type": "execute_result"
    }
   ],
   "source": [
    "np.less(b,a)"
   ]
  },
  {
   "cell_type": "markdown",
   "id": "15e8d966",
   "metadata": {},
   "source": [
    "# Subsetting Array"
   ]
  },
  {
   "cell_type": "code",
   "execution_count": 83,
   "id": "eaec714b",
   "metadata": {},
   "outputs": [
    {
     "data": {
      "text/plain": [
       "array([[1, 2, 3],\n",
       "       [3, 4, 5]])"
      ]
     },
     "execution_count": 83,
     "metadata": {},
     "output_type": "execute_result"
    }
   ],
   "source": [
    "a"
   ]
  },
  {
   "cell_type": "code",
   "execution_count": 84,
   "id": "11d1142e",
   "metadata": {},
   "outputs": [],
   "source": [
    "subset = a[:,1]=8"
   ]
  },
  {
   "cell_type": "code",
   "execution_count": 89,
   "id": "e58c460b",
   "metadata": {},
   "outputs": [
    {
     "data": {
      "text/plain": [
       "array([[1, 8, 3],\n",
       "       [3, 8, 5]])"
      ]
     },
     "execution_count": 89,
     "metadata": {},
     "output_type": "execute_result"
    }
   ],
   "source": [
    "a"
   ]
  },
  {
   "cell_type": "markdown",
   "id": "ee53a159",
   "metadata": {},
   "source": [
    "# Concatenating Array"
   ]
  },
  {
   "cell_type": "code",
   "execution_count": 109,
   "id": "c18d9f82",
   "metadata": {},
   "outputs": [],
   "source": [
    "A = [[1,2,3],[3,4,5]]\n",
    "B = [[3,3,4],[1,2,0]]\n",
    "a = np.array(A)\n",
    "b = np.array(B)"
   ]
  },
  {
   "cell_type": "code",
   "execution_count": 111,
   "id": "70eab124",
   "metadata": {},
   "outputs": [
    {
     "data": {
      "text/plain": [
       "array([[1, 2, 3, 3, 3, 4],\n",
       "       [3, 4, 5, 1, 2, 0]])"
      ]
     },
     "execution_count": 111,
     "metadata": {},
     "output_type": "execute_result"
    }
   ],
   "source": [
    "np.concatenate([a,b], axis =1)"
   ]
  },
  {
   "cell_type": "code",
   "execution_count": 112,
   "id": "2192e61d",
   "metadata": {},
   "outputs": [
    {
     "data": {
      "text/plain": [
       "array([[1, 2, 3],\n",
       "       [3, 4, 5],\n",
       "       [3, 3, 4],\n",
       "       [1, 2, 0]])"
      ]
     },
     "execution_count": 112,
     "metadata": {},
     "output_type": "execute_result"
    }
   ],
   "source": [
    "np.concatenate([a,b], axis =0)"
   ]
  },
  {
   "cell_type": "markdown",
   "id": "12636b22",
   "metadata": {},
   "source": [
    "# Reversing an array in Numpy"
   ]
  },
  {
   "cell_type": "code",
   "execution_count": 90,
   "id": "e55645b4",
   "metadata": {},
   "outputs": [],
   "source": [
    "x = np.array([1,2,3,4,5,6,7,8,9])"
   ]
  },
  {
   "cell_type": "code",
   "execution_count": 91,
   "id": "db62f6bb",
   "metadata": {},
   "outputs": [
    {
     "data": {
      "text/plain": [
       "array([1, 2, 3, 4, 5, 6, 7, 8, 9])"
      ]
     },
     "execution_count": 91,
     "metadata": {},
     "output_type": "execute_result"
    }
   ],
   "source": [
    "x"
   ]
  },
  {
   "cell_type": "code",
   "execution_count": 92,
   "id": "46f72e8c",
   "metadata": {},
   "outputs": [],
   "source": [
    "y = np.flip(x)"
   ]
  },
  {
   "cell_type": "code",
   "execution_count": 93,
   "id": "abf73769",
   "metadata": {},
   "outputs": [
    {
     "data": {
      "text/plain": [
       "array([9, 8, 7, 6, 5, 4, 3, 2, 1])"
      ]
     },
     "execution_count": 93,
     "metadata": {},
     "output_type": "execute_result"
    }
   ],
   "source": [
    "y"
   ]
  },
  {
   "cell_type": "code",
   "execution_count": 94,
   "id": "b8b21ea6",
   "metadata": {},
   "outputs": [],
   "source": [
    "a = np.array([1,2,3,4,5,6,7,8,9])"
   ]
  },
  {
   "cell_type": "code",
   "execution_count": 95,
   "id": "2b057647",
   "metadata": {},
   "outputs": [
    {
     "data": {
      "text/plain": [
       "array([1, 2, 3, 4, 5, 6, 7, 8, 9])"
      ]
     },
     "execution_count": 95,
     "metadata": {},
     "output_type": "execute_result"
    }
   ],
   "source": [
    "a"
   ]
  },
  {
   "cell_type": "code",
   "execution_count": 96,
   "id": "f5750226",
   "metadata": {},
   "outputs": [
    {
     "data": {
      "text/plain": [
       "array([9, 8, 7, 6, 5, 4, 3, 2, 1])"
      ]
     },
     "execution_count": 96,
     "metadata": {},
     "output_type": "execute_result"
    }
   ],
   "source": [
    "a[::-1]"
   ]
  },
  {
   "cell_type": "code",
   "execution_count": 97,
   "id": "71369113",
   "metadata": {},
   "outputs": [],
   "source": [
    "c = np.array([1,2,3,4,5,6,7,8,9])"
   ]
  },
  {
   "cell_type": "code",
   "execution_count": 98,
   "id": "ba34f086",
   "metadata": {},
   "outputs": [],
   "source": [
    "d = np.flipud(c)"
   ]
  },
  {
   "cell_type": "code",
   "execution_count": 100,
   "id": "5634e89c",
   "metadata": {},
   "outputs": [
    {
     "data": {
      "text/plain": [
       "array([9, 8, 7, 6, 5, 4, 3, 2, 1])"
      ]
     },
     "execution_count": 100,
     "metadata": {},
     "output_type": "execute_result"
    }
   ],
   "source": [
    "d"
   ]
  },
  {
   "cell_type": "code",
   "execution_count": 101,
   "id": "a33a33a2",
   "metadata": {},
   "outputs": [],
   "source": [
    "z = np.array([[1,2,3], [4,5,6]])"
   ]
  },
  {
   "cell_type": "code",
   "execution_count": 102,
   "id": "aba9617e",
   "metadata": {},
   "outputs": [
    {
     "data": {
      "text/plain": [
       "array([[1, 2, 3],\n",
       "       [4, 5, 6]])"
      ]
     },
     "execution_count": 102,
     "metadata": {},
     "output_type": "execute_result"
    }
   ],
   "source": [
    "z"
   ]
  },
  {
   "cell_type": "code",
   "execution_count": 103,
   "id": "95f0b521",
   "metadata": {},
   "outputs": [],
   "source": [
    "t = np.flip(z)"
   ]
  },
  {
   "cell_type": "code",
   "execution_count": 104,
   "id": "9e579366",
   "metadata": {},
   "outputs": [
    {
     "data": {
      "text/plain": [
       "array([[6, 5, 4],\n",
       "       [3, 2, 1]])"
      ]
     },
     "execution_count": 104,
     "metadata": {},
     "output_type": "execute_result"
    }
   ],
   "source": [
    "t"
   ]
  },
  {
   "cell_type": "code",
   "execution_count": 105,
   "id": "85327232",
   "metadata": {},
   "outputs": [],
   "source": [
    "f = np.array([[1,2,3], [4,5,6]])"
   ]
  },
  {
   "cell_type": "code",
   "execution_count": 106,
   "id": "c57b7615",
   "metadata": {},
   "outputs": [
    {
     "data": {
      "text/plain": [
       "array([[1, 2, 3],\n",
       "       [4, 5, 6]])"
      ]
     },
     "execution_count": 106,
     "metadata": {},
     "output_type": "execute_result"
    }
   ],
   "source": [
    "f"
   ]
  },
  {
   "cell_type": "code",
   "execution_count": 107,
   "id": "773e09f1",
   "metadata": {},
   "outputs": [],
   "source": [
    "g = np.flipud(f)"
   ]
  },
  {
   "cell_type": "code",
   "execution_count": 108,
   "id": "14461900",
   "metadata": {},
   "outputs": [
    {
     "data": {
      "text/plain": [
       "array([[4, 5, 6],\n",
       "       [1, 2, 3]])"
      ]
     },
     "execution_count": 108,
     "metadata": {},
     "output_type": "execute_result"
    }
   ],
   "source": [
    "g"
   ]
  }
 ],
 "metadata": {
  "kernelspec": {
   "display_name": "Python 3 (ipykernel)",
   "language": "python",
   "name": "python3"
  },
  "language_info": {
   "codemirror_mode": {
    "name": "ipython",
    "version": 3
   },
   "file_extension": ".py",
   "mimetype": "text/x-python",
   "name": "python",
   "nbconvert_exporter": "python",
   "pygments_lexer": "ipython3",
   "version": "3.9.7"
  },
  "toc": {
   "base_numbering": 1,
   "nav_menu": {},
   "number_sections": true,
   "sideBar": true,
   "skip_h1_title": false,
   "title_cell": "Table of Contents",
   "title_sidebar": "Contents",
   "toc_cell": false,
   "toc_position": {},
   "toc_section_display": true,
   "toc_window_display": false
  }
 },
 "nbformat": 4,
 "nbformat_minor": 5
}
