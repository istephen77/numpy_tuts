{
 "cells": [
  {
   "cell_type": "code",
   "execution_count": 1,
   "id": "59f63dc1",
   "metadata": {},
   "outputs": [],
   "source": [
    "import numpy as np"
   ]
  },
  {
   "cell_type": "code",
   "execution_count": 3,
   "id": "4ed72846",
   "metadata": {},
   "outputs": [],
   "source": [
    "x = [9,10,11,12,10,9,9,10,12,11]\n",
    "y = [10,11,14,13,15,11,12,11,13,15]"
   ]
  },
  {
   "cell_type": "code",
   "execution_count": 4,
   "id": "1fbd33de",
   "metadata": {},
   "outputs": [],
   "source": [
    "x = np.array(x)\n",
    "y = np.array(y)"
   ]
  },
  {
   "cell_type": "code",
   "execution_count": 5,
   "id": "13917e8f",
   "metadata": {},
   "outputs": [
    {
     "data": {
      "text/plain": [
       "(array([ 9, 10, 11, 12, 10,  9,  9, 10, 12, 11]),\n",
       " array([10, 11, 14, 13, 15, 11, 12, 11, 13, 15]))"
      ]
     },
     "execution_count": 5,
     "metadata": {},
     "output_type": "execute_result"
    }
   ],
   "source": [
    "x, y"
   ]
  },
  {
   "cell_type": "code",
   "execution_count": 7,
   "id": "eb65e299",
   "metadata": {},
   "outputs": [],
   "source": [
    "#Number of observation points\n",
    "\n",
    "n = np.size(x) #size() returns a number of elements along a given axis"
   ]
  },
  {
   "cell_type": "code",
   "execution_count": 8,
   "id": "d4c68db3",
   "metadata": {},
   "outputs": [
    {
     "data": {
      "text/plain": [
       "10"
      ]
     },
     "execution_count": 8,
     "metadata": {},
     "output_type": "execute_result"
    }
   ],
   "source": [
    "n"
   ]
  },
  {
   "cell_type": "code",
   "execution_count": 11,
   "id": "baf11f3f",
   "metadata": {},
   "outputs": [],
   "source": [
    "#Mean of x and y\n",
    "\n",
    "m_x, m_y = x.mean(), y.mean()"
   ]
  },
  {
   "cell_type": "code",
   "execution_count": 12,
   "id": "4e75ebd8",
   "metadata": {},
   "outputs": [
    {
     "data": {
      "text/plain": [
       "(10.3, 12.5)"
      ]
     },
     "execution_count": 12,
     "metadata": {},
     "output_type": "execute_result"
    }
   ],
   "source": [
    "m_x, m_y"
   ]
  },
  {
   "cell_type": "code",
   "execution_count": 13,
   "id": "f6944a81",
   "metadata": {},
   "outputs": [],
   "source": [
    "#Calculating cross deviation and deviation about x\n",
    "\n",
    "ss_xy = np.sum(x*y)-n*m_x*m_y\n",
    "ss_xx = np.sum(x*x)-n*m_x*m_x"
   ]
  },
  {
   "cell_type": "code",
   "execution_count": 16,
   "id": "2e561927",
   "metadata": {},
   "outputs": [
    {
     "data": {
      "text/plain": [
       "(10.5, 12.099999999999909)"
      ]
     },
     "execution_count": 16,
     "metadata": {},
     "output_type": "execute_result"
    }
   ],
   "source": [
    "ss_xy, ss_xx"
   ]
  },
  {
   "cell_type": "code",
   "execution_count": 17,
   "id": "5eeca126",
   "metadata": {},
   "outputs": [],
   "source": [
    "#Calculating regression co-efficient\n",
    "\n",
    "b_1 = ss_xy/ss_xx        #b_1 is the intercept\n",
    "b_0 = m_y - b_1*m_x      #clope"
   ]
  },
  {
   "cell_type": "code",
   "execution_count": 19,
   "id": "446dffdb",
   "metadata": {},
   "outputs": [
    {
     "data": {
      "text/plain": [
       "(0.8677685950413289, 3.5619834710743117)"
      ]
     },
     "execution_count": 19,
     "metadata": {},
     "output_type": "execute_result"
    }
   ],
   "source": [
    "b_1, b_0  #Regression Co-efficient"
   ]
  },
  {
   "cell_type": "code",
   "execution_count": null,
   "id": "e8a426f0",
   "metadata": {},
   "outputs": [],
   "source": []
  }
 ],
 "metadata": {
  "kernelspec": {
   "display_name": "Python 3 (ipykernel)",
   "language": "python",
   "name": "python3"
  },
  "language_info": {
   "codemirror_mode": {
    "name": "ipython",
    "version": 3
   },
   "file_extension": ".py",
   "mimetype": "text/x-python",
   "name": "python",
   "nbconvert_exporter": "python",
   "pygments_lexer": "ipython3",
   "version": "3.9.7"
  },
  "toc": {
   "base_numbering": 1,
   "nav_menu": {},
   "number_sections": true,
   "sideBar": true,
   "skip_h1_title": false,
   "title_cell": "Table of Contents",
   "title_sidebar": "Contents",
   "toc_cell": false,
   "toc_position": {},
   "toc_section_display": true,
   "toc_window_display": false
  }
 },
 "nbformat": 4,
 "nbformat_minor": 5
}
