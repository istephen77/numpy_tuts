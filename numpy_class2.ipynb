{
 "cells": [
  {
   "cell_type": "code",
   "execution_count": 1,
   "id": "1ea6f534",
   "metadata": {},
   "outputs": [],
   "source": [
    "import numpy as np"
   ]
  },
  {
   "cell_type": "code",
   "execution_count": 2,
   "id": "8cd53e29",
   "metadata": {},
   "outputs": [],
   "source": [
    "arr1 = np.array([11,21,31,41,49])"
   ]
  },
  {
   "cell_type": "code",
   "execution_count": 3,
   "id": "6aac175c",
   "metadata": {},
   "outputs": [
    {
     "data": {
      "text/plain": [
       "array([11, 21, 31, 41, 49])"
      ]
     },
     "execution_count": 3,
     "metadata": {},
     "output_type": "execute_result"
    }
   ],
   "source": [
    "arr1"
   ]
  },
  {
   "cell_type": "code",
   "execution_count": 4,
   "id": "8adb9657",
   "metadata": {},
   "outputs": [],
   "source": [
    "arr2 = np.array([[1,9,21], [29,41,51], [58,72,8]])"
   ]
  },
  {
   "cell_type": "code",
   "execution_count": 5,
   "id": "5eae733b",
   "metadata": {},
   "outputs": [
    {
     "data": {
      "text/plain": [
       "array([[ 1,  9, 21],\n",
       "       [29, 41, 51],\n",
       "       [58, 72,  8]])"
      ]
     },
     "execution_count": 5,
     "metadata": {},
     "output_type": "execute_result"
    }
   ],
   "source": [
    "arr2"
   ]
  },
  {
   "cell_type": "code",
   "execution_count": 6,
   "id": "8a89ecfc",
   "metadata": {},
   "outputs": [],
   "source": [
    "arr3 = np.array([[15,7,10,-11,20,75],[-3,9,24,1,100,-14]])"
   ]
  },
  {
   "cell_type": "code",
   "execution_count": 7,
   "id": "7c33f608",
   "metadata": {},
   "outputs": [
    {
     "data": {
      "text/plain": [
       "array([[ 15,   7,  10, -11,  20,  75],\n",
       "       [ -3,   9,  24,   1, 100, -14]])"
      ]
     },
     "execution_count": 7,
     "metadata": {},
     "output_type": "execute_result"
    }
   ],
   "source": [
    "arr3"
   ]
  },
  {
   "cell_type": "code",
   "execution_count": 8,
   "id": "654e7888",
   "metadata": {},
   "outputs": [
    {
     "data": {
      "text/plain": [
       "153"
      ]
     },
     "execution_count": 8,
     "metadata": {},
     "output_type": "execute_result"
    }
   ],
   "source": [
    "arr1.sum()"
   ]
  },
  {
   "cell_type": "code",
   "execution_count": 9,
   "id": "6e96b46b",
   "metadata": {},
   "outputs": [
    {
     "data": {
      "text/plain": [
       "290"
      ]
     },
     "execution_count": 9,
     "metadata": {},
     "output_type": "execute_result"
    }
   ],
   "source": [
    "arr2.sum()"
   ]
  },
  {
   "cell_type": "code",
   "execution_count": 10,
   "id": "494b6d31",
   "metadata": {},
   "outputs": [
    {
     "data": {
      "text/plain": [
       "233"
      ]
     },
     "execution_count": 10,
     "metadata": {},
     "output_type": "execute_result"
    }
   ],
   "source": [
    "arr3.sum()"
   ]
  },
  {
   "cell_type": "code",
   "execution_count": 11,
   "id": "fe13663c",
   "metadata": {},
   "outputs": [
    {
     "data": {
      "text/plain": [
       "array([ 88, 122,  80])"
      ]
     },
     "execution_count": 11,
     "metadata": {},
     "output_type": "execute_result"
    }
   ],
   "source": [
    "arr2.sum(axis=0)  #axis - 0 means row-wise addition"
   ]
  },
  {
   "cell_type": "code",
   "execution_count": 12,
   "id": "3edc413a",
   "metadata": {},
   "outputs": [
    {
     "data": {
      "text/plain": [
       "array([ 31, 121, 138])"
      ]
     },
     "execution_count": 12,
     "metadata": {},
     "output_type": "execute_result"
    }
   ],
   "source": [
    "arr2.sum(axis=1)  #axis = 1 means column-wise addition"
   ]
  },
  {
   "cell_type": "code",
   "execution_count": 13,
   "id": "d83bffca",
   "metadata": {},
   "outputs": [
    {
     "data": {
      "text/plain": [
       "array([ 12,  16,  34, -10, 120,  61])"
      ]
     },
     "execution_count": 13,
     "metadata": {},
     "output_type": "execute_result"
    }
   ],
   "source": [
    "arr3.sum(axis=0)"
   ]
  },
  {
   "cell_type": "code",
   "execution_count": 14,
   "id": "dc4807ed",
   "metadata": {},
   "outputs": [
    {
     "data": {
      "text/plain": [
       "array([ 31, 121, 138])"
      ]
     },
     "execution_count": 14,
     "metadata": {},
     "output_type": "execute_result"
    }
   ],
   "source": [
    "arr2.sum(axis=1)"
   ]
  },
  {
   "cell_type": "code",
   "execution_count": 15,
   "id": "fbb80981",
   "metadata": {},
   "outputs": [
    {
     "data": {
      "text/plain": [
       "30.6"
      ]
     },
     "execution_count": 15,
     "metadata": {},
     "output_type": "execute_result"
    }
   ],
   "source": [
    "np.average(arr1)"
   ]
  },
  {
   "cell_type": "code",
   "execution_count": 16,
   "id": "ba8de2a8",
   "metadata": {},
   "outputs": [
    {
     "data": {
      "text/plain": [
       "32.22222222222222"
      ]
     },
     "execution_count": 16,
     "metadata": {},
     "output_type": "execute_result"
    }
   ],
   "source": [
    "np.average(arr2)"
   ]
  },
  {
   "cell_type": "code",
   "execution_count": 17,
   "id": "a47f2420",
   "metadata": {},
   "outputs": [
    {
     "data": {
      "text/plain": [
       "19.416666666666668"
      ]
     },
     "execution_count": 17,
     "metadata": {},
     "output_type": "execute_result"
    }
   ],
   "source": [
    "np.average(arr3)"
   ]
  },
  {
   "cell_type": "code",
   "execution_count": 18,
   "id": "23f978c0",
   "metadata": {},
   "outputs": [
    {
     "data": {
      "text/plain": [
       "array([10.33333333, 40.33333333, 46.        ])"
      ]
     },
     "execution_count": 18,
     "metadata": {},
     "output_type": "execute_result"
    }
   ],
   "source": [
    "np.average(arr2, axis =1)"
   ]
  },
  {
   "cell_type": "code",
   "execution_count": 19,
   "id": "0193b0ff",
   "metadata": {},
   "outputs": [
    {
     "data": {
      "text/plain": [
       "array([19.33333333, 19.5       ])"
      ]
     },
     "execution_count": 19,
     "metadata": {},
     "output_type": "execute_result"
    }
   ],
   "source": [
    "np.average(arr3, axis =1)"
   ]
  },
  {
   "cell_type": "code",
   "execution_count": 20,
   "id": "721beeca",
   "metadata": {},
   "outputs": [
    {
     "data": {
      "text/plain": [
       "1"
      ]
     },
     "execution_count": 20,
     "metadata": {},
     "output_type": "execute_result"
    }
   ],
   "source": [
    "arr1.ndim"
   ]
  },
  {
   "cell_type": "code",
   "execution_count": 21,
   "id": "8107fc1a",
   "metadata": {},
   "outputs": [
    {
     "data": {
      "text/plain": [
       "2"
      ]
     },
     "execution_count": 21,
     "metadata": {},
     "output_type": "execute_result"
    }
   ],
   "source": [
    "arr2.ndim"
   ]
  },
  {
   "cell_type": "code",
   "execution_count": 22,
   "id": "0a00a28d",
   "metadata": {},
   "outputs": [
    {
     "data": {
      "text/plain": [
       "2"
      ]
     },
     "execution_count": 22,
     "metadata": {},
     "output_type": "execute_result"
    }
   ],
   "source": [
    "arr3.ndim"
   ]
  },
  {
   "cell_type": "code",
   "execution_count": 23,
   "id": "35c065e4",
   "metadata": {},
   "outputs": [
    {
     "data": {
      "text/plain": [
       "11"
      ]
     },
     "execution_count": 23,
     "metadata": {},
     "output_type": "execute_result"
    }
   ],
   "source": [
    "arr1.min()"
   ]
  },
  {
   "cell_type": "code",
   "execution_count": 24,
   "id": "9d0053b3",
   "metadata": {},
   "outputs": [
    {
     "data": {
      "text/plain": [
       "1"
      ]
     },
     "execution_count": 24,
     "metadata": {},
     "output_type": "execute_result"
    }
   ],
   "source": [
    "arr2.min()"
   ]
  },
  {
   "cell_type": "code",
   "execution_count": 25,
   "id": "3e4d1165",
   "metadata": {},
   "outputs": [
    {
     "data": {
      "text/plain": [
       "array([-11, -14])"
      ]
     },
     "execution_count": 25,
     "metadata": {},
     "output_type": "execute_result"
    }
   ],
   "source": [
    "arr3.min(1)"
   ]
  },
  {
   "cell_type": "code",
   "execution_count": 26,
   "id": "fe4dbddc",
   "metadata": {},
   "outputs": [
    {
     "data": {
      "text/plain": [
       "array([-11, -14])"
      ]
     },
     "execution_count": 26,
     "metadata": {},
     "output_type": "execute_result"
    }
   ],
   "source": [
    "arr3.min(axis=1)"
   ]
  },
  {
   "cell_type": "code",
   "execution_count": 27,
   "id": "39d82f68",
   "metadata": {},
   "outputs": [
    {
     "data": {
      "text/plain": [
       "49"
      ]
     },
     "execution_count": 27,
     "metadata": {},
     "output_type": "execute_result"
    }
   ],
   "source": [
    "arr1.max()"
   ]
  },
  {
   "cell_type": "code",
   "execution_count": 28,
   "id": "fdef3326",
   "metadata": {},
   "outputs": [
    {
     "data": {
      "text/plain": [
       "72"
      ]
     },
     "execution_count": 28,
     "metadata": {},
     "output_type": "execute_result"
    }
   ],
   "source": [
    "arr2.max()"
   ]
  },
  {
   "cell_type": "code",
   "execution_count": 29,
   "id": "22fa306a",
   "metadata": {},
   "outputs": [
    {
     "data": {
      "text/plain": [
       "100"
      ]
     },
     "execution_count": 29,
     "metadata": {},
     "output_type": "execute_result"
    }
   ],
   "source": [
    "arr3.max()"
   ]
  },
  {
   "cell_type": "code",
   "execution_count": 30,
   "id": "e10f6fd5",
   "metadata": {},
   "outputs": [
    {
     "data": {
      "text/plain": [
       "30.6"
      ]
     },
     "execution_count": 30,
     "metadata": {},
     "output_type": "execute_result"
    }
   ],
   "source": [
    "arr1.mean()"
   ]
  },
  {
   "cell_type": "code",
   "execution_count": 31,
   "id": "ed6d621d",
   "metadata": {},
   "outputs": [
    {
     "data": {
      "text/plain": [
       "32.22222222222222"
      ]
     },
     "execution_count": 31,
     "metadata": {},
     "output_type": "execute_result"
    }
   ],
   "source": [
    "arr2.mean()"
   ]
  },
  {
   "cell_type": "code",
   "execution_count": 32,
   "id": "c392e436",
   "metadata": {},
   "outputs": [
    {
     "data": {
      "text/plain": [
       "19.416666666666668"
      ]
     },
     "execution_count": 32,
     "metadata": {},
     "output_type": "execute_result"
    }
   ],
   "source": [
    "arr3.mean()"
   ]
  },
  {
   "cell_type": "markdown",
   "id": "8c905a2a",
   "metadata": {},
   "source": [
    "# Computation on Arrays : Broadcasting"
   ]
  },
  {
   "cell_type": "code",
   "execution_count": 33,
   "id": "a18434cf",
   "metadata": {},
   "outputs": [],
   "source": [
    "# The term braodcasting refers to how numpy treats array with different dimensions\n",
    "# While arithmetic operations leading to specific constraints. Moreover the smaller array is broadcasted over the larger array.\n",
    "# so that they have compatible shapes."
   ]
  },
  {
   "cell_type": "code",
   "execution_count": 34,
   "id": "b4aa3234",
   "metadata": {},
   "outputs": [],
   "source": [
    "a1 = np.array([1,3,7,5])\n",
    "a2 = np.array([90,50,0,30])"
   ]
  },
  {
   "cell_type": "code",
   "execution_count": 35,
   "id": "eaeaf506",
   "metadata": {},
   "outputs": [],
   "source": [
    "c1 = a1 * a2"
   ]
  },
  {
   "cell_type": "code",
   "execution_count": 36,
   "id": "691623b3",
   "metadata": {},
   "outputs": [
    {
     "data": {
      "text/plain": [
       "array([ 90, 150,   0, 150])"
      ]
     },
     "execution_count": 36,
     "metadata": {},
     "output_type": "execute_result"
    }
   ],
   "source": [
    "c1"
   ]
  },
  {
   "cell_type": "code",
   "execution_count": 37,
   "id": "d099dea8",
   "metadata": {},
   "outputs": [],
   "source": [
    "d1 = 3"
   ]
  },
  {
   "cell_type": "code",
   "execution_count": 38,
   "id": "ab0426ef",
   "metadata": {},
   "outputs": [],
   "source": [
    "e1 = a1*3"
   ]
  },
  {
   "cell_type": "code",
   "execution_count": 39,
   "id": "5fbc06c9",
   "metadata": {},
   "outputs": [
    {
     "data": {
      "text/plain": [
       "array([ 3,  9, 21, 15])"
      ]
     },
     "execution_count": 39,
     "metadata": {},
     "output_type": "execute_result"
    }
   ],
   "source": [
    "e1"
   ]
  },
  {
   "cell_type": "code",
   "execution_count": 40,
   "id": "3aa14e4c",
   "metadata": {},
   "outputs": [],
   "source": [
    "d1 = a1+3"
   ]
  },
  {
   "cell_type": "code",
   "execution_count": 41,
   "id": "70d8a3d6",
   "metadata": {},
   "outputs": [
    {
     "data": {
      "text/plain": [
       "array([ 4,  6, 10,  8])"
      ]
     },
     "execution_count": 41,
     "metadata": {},
     "output_type": "execute_result"
    }
   ],
   "source": [
    "d1"
   ]
  },
  {
   "cell_type": "code",
   "execution_count": 42,
   "id": "03f010c7",
   "metadata": {},
   "outputs": [],
   "source": [
    "b1 = 4"
   ]
  },
  {
   "cell_type": "code",
   "execution_count": 43,
   "id": "ead4c12e",
   "metadata": {},
   "outputs": [],
   "source": [
    "c1 = a1 + b1"
   ]
  },
  {
   "cell_type": "code",
   "execution_count": 44,
   "id": "1ef99cf3",
   "metadata": {},
   "outputs": [
    {
     "data": {
      "text/plain": [
       "array([ 5,  7, 11,  9])"
      ]
     },
     "execution_count": 44,
     "metadata": {},
     "output_type": "execute_result"
    }
   ],
   "source": [
    "c1"
   ]
  },
  {
   "cell_type": "code",
   "execution_count": 45,
   "id": "8fd6b576",
   "metadata": {},
   "outputs": [],
   "source": [
    "arr4 = np.random.randint(10,50, size = (5,8))"
   ]
  },
  {
   "cell_type": "code",
   "execution_count": 46,
   "id": "92848598",
   "metadata": {},
   "outputs": [
    {
     "data": {
      "text/plain": [
       "array([[28, 10, 36, 10, 44, 27, 32, 33],\n",
       "       [17, 16, 24, 22, 21, 43, 12, 46],\n",
       "       [46, 29, 20, 44, 38, 30, 35, 37],\n",
       "       [16, 27, 35, 25, 22, 41, 42, 19],\n",
       "       [47, 11, 22, 44, 30, 24, 44, 19]])"
      ]
     },
     "execution_count": 46,
     "metadata": {},
     "output_type": "execute_result"
    }
   ],
   "source": [
    "arr4"
   ]
  },
  {
   "cell_type": "code",
   "execution_count": 47,
   "id": "24b6ba67",
   "metadata": {},
   "outputs": [],
   "source": [
    "# random function\n",
    "\n",
    "# A two‐dimensional array is generated by the first array having a size of 5 rows and \n",
    "# columns, and the values are within 10 and 50\n",
    "\n",
    "# A random three‐dimensional array of size 2*3*6 is generated by this second array. The\n",
    "# generated random values are within 1 and 20"
   ]
  },
  {
   "cell_type": "code",
   "execution_count": 48,
   "id": "8df9311d",
   "metadata": {},
   "outputs": [],
   "source": [
    "arr5 = np.random.randint(1,20, size = (2,3,6))  "
   ]
  },
  {
   "cell_type": "code",
   "execution_count": 49,
   "id": "0c00eec9",
   "metadata": {},
   "outputs": [
    {
     "data": {
      "text/plain": [
       "array([[[ 3, 13,  8, 14, 12,  7],\n",
       "        [ 9, 13,  3, 11,  9,  9],\n",
       "        [ 2, 14,  3,  1, 18,  7]],\n",
       "\n",
       "       [[ 5, 18, 17,  5, 11,  4],\n",
       "        [11,  6,  4, 14,  6,  5],\n",
       "        [ 4, 12,  7, 19, 18, 16]]])"
      ]
     },
     "execution_count": 49,
     "metadata": {},
     "output_type": "execute_result"
    }
   ],
   "source": [
    "arr5"
   ]
  },
  {
   "cell_type": "code",
   "execution_count": 50,
   "id": "4352c9b3",
   "metadata": {},
   "outputs": [
    {
     "data": {
      "text/plain": [
       "3"
      ]
     },
     "execution_count": 50,
     "metadata": {},
     "output_type": "execute_result"
    }
   ],
   "source": [
    "arr5.ndim"
   ]
  },
  {
   "cell_type": "code",
   "execution_count": 51,
   "id": "e67b9a03",
   "metadata": {},
   "outputs": [],
   "source": [
    "a = np.array([0,2,3,0,1,6,5,2])"
   ]
  },
  {
   "cell_type": "code",
   "execution_count": 52,
   "id": "15f5fc11",
   "metadata": {},
   "outputs": [
    {
     "data": {
      "text/plain": [
       "array([False, False,  True, False, False,  True,  True, False])"
      ]
     },
     "execution_count": 52,
     "metadata": {},
     "output_type": "execute_result"
    }
   ],
   "source": [
    "np.greater(a,2)"
   ]
  },
  {
   "cell_type": "code",
   "execution_count": 53,
   "id": "6e742bc4",
   "metadata": {},
   "outputs": [
    {
     "data": {
      "text/plain": [
       "array([False,  True,  True, False, False,  True,  True,  True])"
      ]
     },
     "execution_count": 53,
     "metadata": {},
     "output_type": "execute_result"
    }
   ],
   "source": [
    "np.greater_equal(a,2)"
   ]
  },
  {
   "cell_type": "code",
   "execution_count": 54,
   "id": "404ea376",
   "metadata": {},
   "outputs": [
    {
     "data": {
      "text/plain": [
       "array([ True, False, False,  True,  True, False, False, False])"
      ]
     },
     "execution_count": 54,
     "metadata": {},
     "output_type": "execute_result"
    }
   ],
   "source": [
    "np.less(a,2)"
   ]
  },
  {
   "cell_type": "code",
   "execution_count": 55,
   "id": "44aea256",
   "metadata": {},
   "outputs": [
    {
     "data": {
      "text/plain": [
       "array([ True,  True, False,  True,  True, False, False,  True])"
      ]
     },
     "execution_count": 55,
     "metadata": {},
     "output_type": "execute_result"
    }
   ],
   "source": [
    "np.less_equal(a,2)"
   ]
  },
  {
   "cell_type": "code",
   "execution_count": 56,
   "id": "df5f4e8e",
   "metadata": {},
   "outputs": [],
   "source": [
    "a = np.reshape(np.arange(25),(5,5))"
   ]
  },
  {
   "cell_type": "code",
   "execution_count": 57,
   "id": "2bd0cad0",
   "metadata": {},
   "outputs": [
    {
     "data": {
      "text/plain": [
       "array([[ 0,  1,  2,  3,  4],\n",
       "       [ 5,  6,  7,  8,  9],\n",
       "       [10, 11, 12, 13, 14],\n",
       "       [15, 16, 17, 18, 19],\n",
       "       [20, 21, 22, 23, 24]])"
      ]
     },
     "execution_count": 57,
     "metadata": {},
     "output_type": "execute_result"
    }
   ],
   "source": [
    "a"
   ]
  },
  {
   "cell_type": "code",
   "execution_count": 58,
   "id": "7e4906e0",
   "metadata": {},
   "outputs": [],
   "source": [
    "greater_values = (a>10)"
   ]
  },
  {
   "cell_type": "code",
   "execution_count": 59,
   "id": "9f6dd19b",
   "metadata": {},
   "outputs": [
    {
     "data": {
      "text/plain": [
       "array([[False, False, False, False, False],\n",
       "       [False, False, False, False, False],\n",
       "       [False,  True,  True,  True,  True],\n",
       "       [ True,  True,  True,  True,  True],\n",
       "       [ True,  True,  True,  True,  True]])"
      ]
     },
     "execution_count": 59,
     "metadata": {},
     "output_type": "execute_result"
    }
   ],
   "source": [
    "greater_values"
   ]
  },
  {
   "cell_type": "code",
   "execution_count": 60,
   "id": "66b38318",
   "metadata": {},
   "outputs": [],
   "source": [
    "even_values = (a%2==0)"
   ]
  },
  {
   "cell_type": "code",
   "execution_count": 61,
   "id": "50dc649c",
   "metadata": {},
   "outputs": [
    {
     "data": {
      "text/plain": [
       "array([[ True, False,  True, False,  True],\n",
       "       [False,  True, False,  True, False],\n",
       "       [ True, False,  True, False,  True],\n",
       "       [False,  True, False,  True, False],\n",
       "       [ True, False,  True, False,  True]])"
      ]
     },
     "execution_count": 61,
     "metadata": {},
     "output_type": "execute_result"
    }
   ],
   "source": [
    "even_values"
   ]
  },
  {
   "cell_type": "code",
   "execution_count": 62,
   "id": "58aad1a8",
   "metadata": {},
   "outputs": [],
   "source": [
    "b = ~(a%10 == 0)"
   ]
  },
  {
   "cell_type": "code",
   "execution_count": 63,
   "id": "17bba51d",
   "metadata": {},
   "outputs": [
    {
     "data": {
      "text/plain": [
       "array([[False,  True,  True,  True,  True],\n",
       "       [ True,  True,  True,  True,  True],\n",
       "       [False,  True,  True,  True,  True],\n",
       "       [ True,  True,  True,  True,  True],\n",
       "       [False,  True,  True,  True,  True]])"
      ]
     },
     "execution_count": 63,
     "metadata": {},
     "output_type": "execute_result"
    }
   ],
   "source": [
    "b"
   ]
  },
  {
   "cell_type": "code",
   "execution_count": 64,
   "id": "841267a9",
   "metadata": {},
   "outputs": [],
   "source": [
    "c = (a%2==0) | (a%3==0)"
   ]
  },
  {
   "cell_type": "code",
   "execution_count": 65,
   "id": "9fdbdccc",
   "metadata": {},
   "outputs": [
    {
     "data": {
      "text/plain": [
       "array([[ True, False,  True,  True,  True],\n",
       "       [False,  True, False,  True,  True],\n",
       "       [ True, False,  True, False,  True],\n",
       "       [ True,  True, False,  True, False],\n",
       "       [ True,  True,  True, False,  True]])"
      ]
     },
     "execution_count": 65,
     "metadata": {},
     "output_type": "execute_result"
    }
   ],
   "source": [
    "c"
   ]
  },
  {
   "cell_type": "markdown",
   "id": "1a1291e4",
   "metadata": {},
   "source": [
    "# Masking in Numpy"
   ]
  },
  {
   "cell_type": "code",
   "execution_count": 66,
   "id": "db848c2d",
   "metadata": {},
   "outputs": [],
   "source": [
    "# In numpy.ma.mask_rows() function, mask rows of a 2‐Dimensional array which hold masked values.\n",
    "# The numpy.ma.mask_rows() function is a shortcut to mask_rowcols with axis equal to 0"
   ]
  },
  {
   "cell_type": "code",
   "execution_count": 67,
   "id": "57b233c0",
   "metadata": {},
   "outputs": [],
   "source": [
    "import numpy as np\n",
    "import numpy.ma as ma"
   ]
  },
  {
   "cell_type": "code",
   "execution_count": 68,
   "id": "ab66f41d",
   "metadata": {},
   "outputs": [],
   "source": [
    "array5 = np.zeros((4,4), dtype = int)"
   ]
  },
  {
   "cell_type": "code",
   "execution_count": 69,
   "id": "e521c4f0",
   "metadata": {},
   "outputs": [
    {
     "data": {
      "text/plain": [
       "array([[0, 0, 0, 0],\n",
       "       [0, 0, 0, 0],\n",
       "       [0, 0, 0, 0],\n",
       "       [0, 0, 0, 0]])"
      ]
     },
     "execution_count": 69,
     "metadata": {},
     "output_type": "execute_result"
    }
   ],
   "source": [
    "array5"
   ]
  },
  {
   "cell_type": "code",
   "execution_count": 70,
   "id": "b0feb8f1",
   "metadata": {},
   "outputs": [],
   "source": [
    "array5[2,2] = 1"
   ]
  },
  {
   "cell_type": "code",
   "execution_count": 71,
   "id": "4256eb18",
   "metadata": {},
   "outputs": [
    {
     "data": {
      "text/plain": [
       "array([[0, 0, 0, 0],\n",
       "       [0, 0, 0, 0],\n",
       "       [0, 0, 1, 0],\n",
       "       [0, 0, 0, 0]])"
      ]
     },
     "execution_count": 71,
     "metadata": {},
     "output_type": "execute_result"
    }
   ],
   "source": [
    "array5"
   ]
  },
  {
   "cell_type": "code",
   "execution_count": 72,
   "id": "cabe81b2",
   "metadata": {},
   "outputs": [],
   "source": [
    "array5 = ma.masked_equal(array5, 1)"
   ]
  },
  {
   "cell_type": "code",
   "execution_count": 73,
   "id": "ce1af10c",
   "metadata": {},
   "outputs": [
    {
     "data": {
      "text/plain": [
       "masked_array(\n",
       "  data=[[0, 0, 0, 0],\n",
       "        [0, 0, 0, 0],\n",
       "        [0, 0, --, 0],\n",
       "        [0, 0, 0, 0]],\n",
       "  mask=[[False, False, False, False],\n",
       "        [False, False, False, False],\n",
       "        [False, False,  True, False],\n",
       "        [False, False, False, False]],\n",
       "  fill_value=1)"
      ]
     },
     "execution_count": 73,
     "metadata": {},
     "output_type": "execute_result"
    }
   ],
   "source": [
    "array5"
   ]
  },
  {
   "cell_type": "code",
   "execution_count": 74,
   "id": "5659f6a5",
   "metadata": {},
   "outputs": [],
   "source": [
    "array5 = ma.mask_rows(array5)"
   ]
  },
  {
   "cell_type": "code",
   "execution_count": 75,
   "id": "181ef48b",
   "metadata": {},
   "outputs": [
    {
     "data": {
      "text/plain": [
       "masked_array(\n",
       "  data=[[0, 0, 0, 0],\n",
       "        [0, 0, 0, 0],\n",
       "        [--, --, --, --],\n",
       "        [0, 0, 0, 0]],\n",
       "  mask=[[False, False, False, False],\n",
       "        [False, False, False, False],\n",
       "        [ True,  True,  True,  True],\n",
       "        [False, False, False, False]],\n",
       "  fill_value=1)"
      ]
     },
     "execution_count": 75,
     "metadata": {},
     "output_type": "execute_result"
    }
   ],
   "source": [
    "array5"
   ]
  },
  {
   "cell_type": "code",
   "execution_count": 76,
   "id": "35bcf420",
   "metadata": {},
   "outputs": [],
   "source": [
    "array5 = ma.mask_rowcols(array5)"
   ]
  },
  {
   "cell_type": "code",
   "execution_count": 77,
   "id": "4c7dbe2d",
   "metadata": {},
   "outputs": [
    {
     "data": {
      "text/plain": [
       "masked_array(\n",
       "  data=[[--, --, --, --],\n",
       "        [--, --, --, --],\n",
       "        [--, --, --, --],\n",
       "        [--, --, --, --]],\n",
       "  mask=[[ True,  True,  True,  True],\n",
       "        [ True,  True,  True,  True],\n",
       "        [ True,  True,  True,  True],\n",
       "        [ True,  True,  True,  True]],\n",
       "  fill_value=1,\n",
       "  dtype=int32)"
      ]
     },
     "execution_count": 77,
     "metadata": {},
     "output_type": "execute_result"
    }
   ],
   "source": [
    "array5"
   ]
  },
  {
   "cell_type": "code",
   "execution_count": 78,
   "id": "562527aa",
   "metadata": {},
   "outputs": [],
   "source": [
    "arr_a1 = np.array([[1,9,21], [29,41,51], [58,72,8]])"
   ]
  },
  {
   "cell_type": "code",
   "execution_count": 79,
   "id": "8b859311",
   "metadata": {},
   "outputs": [
    {
     "data": {
      "text/plain": [
       "array([[ 1,  9, 21],\n",
       "       [29, 41, 51],\n",
       "       [58, 72,  8]])"
      ]
     },
     "execution_count": 79,
     "metadata": {},
     "output_type": "execute_result"
    }
   ],
   "source": [
    "arr_a1"
   ]
  },
  {
   "cell_type": "code",
   "execution_count": 80,
   "id": "07cdffb0",
   "metadata": {},
   "outputs": [],
   "source": [
    "x = ma.masked_equal(arr_a1,58)"
   ]
  },
  {
   "cell_type": "code",
   "execution_count": 81,
   "id": "c7050488",
   "metadata": {},
   "outputs": [
    {
     "data": {
      "text/plain": [
       "masked_array(\n",
       "  data=[[1, 9, 21],\n",
       "        [29, 41, 51],\n",
       "        [--, 72, 8]],\n",
       "  mask=[[False, False, False],\n",
       "        [False, False, False],\n",
       "        [ True, False, False]],\n",
       "  fill_value=58)"
      ]
     },
     "execution_count": 81,
     "metadata": {},
     "output_type": "execute_result"
    }
   ],
   "source": [
    "x"
   ]
  },
  {
   "cell_type": "code",
   "execution_count": 82,
   "id": "7b8506f1",
   "metadata": {},
   "outputs": [],
   "source": [
    "y = ma.mask_rows(x)"
   ]
  },
  {
   "cell_type": "code",
   "execution_count": 83,
   "id": "c007e611",
   "metadata": {},
   "outputs": [
    {
     "data": {
      "text/plain": [
       "masked_array(\n",
       "  data=[[1, 9, 21],\n",
       "        [29, 41, 51],\n",
       "        [--, --, --]],\n",
       "  mask=[[False, False, False],\n",
       "        [False, False, False],\n",
       "        [ True,  True,  True]],\n",
       "  fill_value=58)"
      ]
     },
     "execution_count": 83,
     "metadata": {},
     "output_type": "execute_result"
    }
   ],
   "source": [
    "y"
   ]
  },
  {
   "cell_type": "code",
   "execution_count": 84,
   "id": "9788ab33",
   "metadata": {},
   "outputs": [],
   "source": [
    "z = ma.mask_rowcols(x)"
   ]
  },
  {
   "cell_type": "code",
   "execution_count": 85,
   "id": "fb474d3b",
   "metadata": {},
   "outputs": [
    {
     "data": {
      "text/plain": [
       "masked_array(\n",
       "  data=[[--, 9, 21],\n",
       "        [--, 41, 51],\n",
       "        [--, --, --]],\n",
       "  mask=[[ True, False, False],\n",
       "        [ True, False, False],\n",
       "        [ True,  True,  True]],\n",
       "  fill_value=58)"
      ]
     },
     "execution_count": 85,
     "metadata": {},
     "output_type": "execute_result"
    }
   ],
   "source": [
    "z"
   ]
  },
  {
   "cell_type": "markdown",
   "id": "a7b11873",
   "metadata": {},
   "source": [
    "# Fancy Indexing"
   ]
  },
  {
   "cell_type": "code",
   "execution_count": 134,
   "id": "9e59a3f4",
   "metadata": {},
   "outputs": [],
   "source": [
    "# Fancy indexing is like the simple indexing, but we pass arrays of indices instead of single scalars \n",
    "# It permits us to quickly access as well as change complicated subsets of an array's values\n",
    "\n",
    "# Exploring Fancy Indexing\n",
    "\n",
    "# • Fancy indexing is conceptually simple which means passing an array of indices in order to access multiple array elements at one time\n",
    "\n",
    "# • For instance, consider the below‐written array:"
   ]
  },
  {
   "cell_type": "code",
   "execution_count": 135,
   "id": "e4026375",
   "metadata": {},
   "outputs": [],
   "source": [
    "x = np.random.randint(100, size=10)"
   ]
  },
  {
   "cell_type": "code",
   "execution_count": 136,
   "id": "6888ba64",
   "metadata": {},
   "outputs": [
    {
     "data": {
      "text/plain": [
       "array([83, 24, 97, 39, 35, 44, 30, 38, 13,  2])"
      ]
     },
     "execution_count": 136,
     "metadata": {},
     "output_type": "execute_result"
    }
   ],
   "source": [
    "x"
   ]
  },
  {
   "cell_type": "code",
   "execution_count": 137,
   "id": "31e6879b",
   "metadata": {},
   "outputs": [
    {
     "data": {
      "text/plain": [
       "[39, 38, 97]"
      ]
     },
     "execution_count": 137,
     "metadata": {},
     "output_type": "execute_result"
    }
   ],
   "source": [
    "[x[3],x[7],x[2]]   #Normal indexing"
   ]
  },
  {
   "cell_type": "code",
   "execution_count": 138,
   "id": "1994582b",
   "metadata": {},
   "outputs": [],
   "source": [
    "x_fancy_index = [3,7,4]"
   ]
  },
  {
   "cell_type": "code",
   "execution_count": 139,
   "id": "b717920a",
   "metadata": {},
   "outputs": [
    {
     "data": {
      "text/plain": [
       "array([39, 38, 35])"
      ]
     },
     "execution_count": 139,
     "metadata": {},
     "output_type": "execute_result"
    }
   ],
   "source": [
    "x[x_fancy_index]"
   ]
  },
  {
   "cell_type": "code",
   "execution_count": 140,
   "id": "886a1590",
   "metadata": {},
   "outputs": [],
   "source": [
    "ind2 = np.array([[3,7], [4,5]])"
   ]
  },
  {
   "cell_type": "code",
   "execution_count": 141,
   "id": "23aeaf43",
   "metadata": {},
   "outputs": [
    {
     "data": {
      "text/plain": [
       "array([[3, 7],\n",
       "       [4, 5]])"
      ]
     },
     "execution_count": 141,
     "metadata": {},
     "output_type": "execute_result"
    }
   ],
   "source": [
    "ind2"
   ]
  },
  {
   "cell_type": "code",
   "execution_count": 142,
   "id": "0510b140",
   "metadata": {},
   "outputs": [
    {
     "data": {
      "text/plain": [
       "array([3, 5])"
      ]
     },
     "execution_count": 142,
     "metadata": {},
     "output_type": "execute_result"
    }
   ],
   "source": [
    "r = np.array([0,1])\n",
    "c = np.array([0,1])\n",
    "ind2[r,c]"
   ]
  },
  {
   "cell_type": "code",
   "execution_count": 143,
   "id": "caac8ae0",
   "metadata": {},
   "outputs": [],
   "source": [
    "y = np.arange(12).reshape((3,4))"
   ]
  },
  {
   "cell_type": "code",
   "execution_count": 144,
   "id": "a1b8a0c1",
   "metadata": {},
   "outputs": [
    {
     "data": {
      "text/plain": [
       "array([[ 0,  1,  2,  3],\n",
       "       [ 4,  5,  6,  7],\n",
       "       [ 8,  9, 10, 11]])"
      ]
     },
     "execution_count": 144,
     "metadata": {},
     "output_type": "execute_result"
    }
   ],
   "source": [
    "y"
   ]
  },
  {
   "cell_type": "code",
   "execution_count": 145,
   "id": "9dcd4ab9",
   "metadata": {},
   "outputs": [
    {
     "data": {
      "text/plain": [
       "array([ 2,  5, 11])"
      ]
     },
     "execution_count": 145,
     "metadata": {},
     "output_type": "execute_result"
    }
   ],
   "source": [
    "row = np.array([0,1,2])\n",
    "col = np.array([2,1,3])\n",
    "y[row, col]"
   ]
  },
  {
   "cell_type": "code",
   "execution_count": 146,
   "id": "56aa20b8",
   "metadata": {},
   "outputs": [
    {
     "data": {
      "text/plain": [
       "array([[ 2,  1,  3],\n",
       "       [ 6,  5,  7],\n",
       "       [10,  9, 11]])"
      ]
     },
     "execution_count": 146,
     "metadata": {},
     "output_type": "execute_result"
    }
   ],
   "source": [
    "y[row[:,np.newaxis], col]"
   ]
  },
  {
   "cell_type": "markdown",
   "id": "c182fa0d",
   "metadata": {},
   "source": [
    "# Combined Indexing"
   ]
  },
  {
   "cell_type": "code",
   "execution_count": 147,
   "id": "8aed6757",
   "metadata": {},
   "outputs": [
    {
     "data": {
      "text/plain": [
       "array([[ 0,  1,  2,  3],\n",
       "       [ 4,  5,  6,  7],\n",
       "       [ 8,  9, 10, 11]])"
      ]
     },
     "execution_count": 147,
     "metadata": {},
     "output_type": "execute_result"
    }
   ],
   "source": [
    "y"
   ]
  },
  {
   "cell_type": "code",
   "execution_count": 148,
   "id": "51c49637",
   "metadata": {},
   "outputs": [
    {
     "data": {
      "text/plain": [
       "array([10,  8, 10])"
      ]
     },
     "execution_count": 148,
     "metadata": {},
     "output_type": "execute_result"
    }
   ],
   "source": [
    "y[2,[2,0,2]]"
   ]
  },
  {
   "cell_type": "code",
   "execution_count": 149,
   "id": "bc13c7e6",
   "metadata": {},
   "outputs": [
    {
     "data": {
      "text/plain": [
       "array([[10,  8, 11]])"
      ]
     },
     "execution_count": 149,
     "metadata": {},
     "output_type": "execute_result"
    }
   ],
   "source": [
    "y[2:,[2,0,3]]"
   ]
  },
  {
   "cell_type": "code",
   "execution_count": 150,
   "id": "ec9feae2",
   "metadata": {},
   "outputs": [
    {
     "data": {
      "text/plain": [
       "array([[ 6,  4,  7],\n",
       "       [10,  8, 11]])"
      ]
     },
     "execution_count": 150,
     "metadata": {},
     "output_type": "execute_result"
    }
   ],
   "source": [
    "y[1:,[2,0,3]]"
   ]
  },
  {
   "cell_type": "code",
   "execution_count": 151,
   "id": "d152dcc8",
   "metadata": {},
   "outputs": [
    {
     "data": {
      "text/plain": [
       "array([6, 4, 7])"
      ]
     },
     "execution_count": 151,
     "metadata": {},
     "output_type": "execute_result"
    }
   ],
   "source": [
    "y[1,[2,0,3]]"
   ]
  },
  {
   "cell_type": "code",
   "execution_count": 152,
   "id": "0334c8ba",
   "metadata": {},
   "outputs": [],
   "source": [
    "mask = np.array([1,0,1,0], dtype = bool)"
   ]
  },
  {
   "cell_type": "code",
   "execution_count": 153,
   "id": "6c1f75d3",
   "metadata": {},
   "outputs": [
    {
     "data": {
      "text/plain": [
       "array([ True, False,  True, False])"
      ]
     },
     "execution_count": 153,
     "metadata": {},
     "output_type": "execute_result"
    }
   ],
   "source": [
    "mask"
   ]
  },
  {
   "cell_type": "code",
   "execution_count": 154,
   "id": "a6bcd1d2",
   "metadata": {},
   "outputs": [
    {
     "data": {
      "text/plain": [
       "array([[ 0,  2],\n",
       "       [ 4,  6],\n",
       "       [ 8, 10]])"
      ]
     },
     "execution_count": 154,
     "metadata": {},
     "output_type": "execute_result"
    }
   ],
   "source": [
    "y[row[:,np.newaxis], mask]"
   ]
  },
  {
   "cell_type": "code",
   "execution_count": 155,
   "id": "3b70a81a",
   "metadata": {},
   "outputs": [
    {
     "name": "stdout",
     "output_type": "stream",
     "text": [
      "[ 0 99 99  3 99  5  6  7 99  9]\n"
     ]
    }
   ],
   "source": [
    "a = np.arange(10)\n",
    "i = np.array([2,1,8,4])\n",
    "a[i] = 99\n",
    "print(a)"
   ]
  },
  {
   "cell_type": "code",
   "execution_count": 156,
   "id": "ab6263dd",
   "metadata": {},
   "outputs": [
    {
     "name": "stdout",
     "output_type": "stream",
     "text": [
      "[0 0 1 3 3 5 6 7 7 9]\n"
     ]
    }
   ],
   "source": [
    "a = np.arange(10)\n",
    "i = np.array([2,1,8,4])\n",
    "a[i] -= 1\n",
    "print(a)"
   ]
  },
  {
   "cell_type": "code",
   "execution_count": 157,
   "id": "2404fd93",
   "metadata": {},
   "outputs": [
    {
     "name": "stdout",
     "output_type": "stream",
     "text": [
      "[8. 0. 0. 0. 0. 0. 0. 0. 0. 0.]\n"
     ]
    }
   ],
   "source": [
    "a = np.zeros(10)\n",
    "a[[0,0]] = [2,8]\n",
    "print(a)"
   ]
  },
  {
   "cell_type": "code",
   "execution_count": 158,
   "id": "cee0e6bc",
   "metadata": {},
   "outputs": [
    {
     "name": "stdout",
     "output_type": "stream",
     "text": [
      "[2. 0. 0. 0. 0. 0. 0. 0. 0. 0.]\n"
     ]
    }
   ],
   "source": [
    "a = np.zeros(10)\n",
    "a[[0,0]] = [2]\n",
    "print(a)"
   ]
  },
  {
   "cell_type": "code",
   "execution_count": 159,
   "id": "6ca8421e",
   "metadata": {},
   "outputs": [
    {
     "name": "stdout",
     "output_type": "stream",
     "text": [
      "[0. 2. 8. 0. 0. 0. 0. 0. 0. 0.]\n"
     ]
    }
   ],
   "source": [
    "a = np.zeros(10)\n",
    "a[[1,2]] = [2,8]\n",
    "print(a)"
   ]
  },
  {
   "cell_type": "code",
   "execution_count": 160,
   "id": "6d3de7f4",
   "metadata": {},
   "outputs": [
    {
     "name": "stdout",
     "output_type": "stream",
     "text": [
      "[23.  0.  0.  0.  0.  0.  0.  0.  0.  0.]\n"
     ]
    }
   ],
   "source": [
    "a = np.zeros(10)\n",
    "a[[0,0]] = [8,23]\n",
    "print(a)"
   ]
  },
  {
   "cell_type": "code",
   "execution_count": 161,
   "id": "e8bb8b3d",
   "metadata": {},
   "outputs": [
    {
     "name": "stdout",
     "output_type": "stream",
     "text": [
      "[ 0.  2. 12.  0.  0.  0.  0.  0.  0.  0.]\n"
     ]
    }
   ],
   "source": [
    "a = np.zeros(10)\n",
    "a[[1,2]] = [2,12]\n",
    "print(a)"
   ]
  },
  {
   "cell_type": "code",
   "execution_count": 162,
   "id": "3dbf5d2f",
   "metadata": {},
   "outputs": [],
   "source": [
    "array = np.array([5,7,2,8])"
   ]
  },
  {
   "cell_type": "code",
   "execution_count": 163,
   "id": "4368b330",
   "metadata": {},
   "outputs": [
    {
     "name": "stdout",
     "output_type": "stream",
     "text": [
      "[2 5 7 8]\n"
     ]
    }
   ],
   "source": [
    "print(np.sort(array))"
   ]
  },
  {
   "cell_type": "code",
   "execution_count": 164,
   "id": "c0166f27",
   "metadata": {},
   "outputs": [
    {
     "name": "stdout",
     "output_type": "stream",
     "text": [
      "['banana' 'fig' 'pine-apple']\n"
     ]
    }
   ],
   "source": [
    "print(np.sort(['pine-apple', 'banana', 'fig']))"
   ]
  },
  {
   "cell_type": "code",
   "execution_count": 165,
   "id": "db64d90b",
   "metadata": {},
   "outputs": [
    {
     "data": {
      "text/plain": [
       "array([[1, 2, 3],\n",
       "       [4, 5, 6]])"
      ]
     },
     "execution_count": 165,
     "metadata": {},
     "output_type": "execute_result"
    }
   ],
   "source": [
    "z"
   ]
  },
  {
   "cell_type": "code",
   "execution_count": 166,
   "id": "4b12b60c",
   "metadata": {},
   "outputs": [],
   "source": [
    "a = np.sort(['pine-apple', 'banana', 'fig'])"
   ]
  },
  {
   "cell_type": "code",
   "execution_count": 167,
   "id": "241c6ac4",
   "metadata": {},
   "outputs": [
    {
     "data": {
      "text/plain": [
       "array(['pine-apple', 'fig', 'banana'], dtype='<U10')"
      ]
     },
     "execution_count": 167,
     "metadata": {},
     "output_type": "execute_result"
    }
   ],
   "source": [
    "a[::-1]"
   ]
  },
  {
   "cell_type": "code",
   "execution_count": 169,
   "id": "8dc07397",
   "metadata": {},
   "outputs": [],
   "source": [
    "array_sort_2d = np.array([[5,0,1],[9,3,6]])"
   ]
  },
  {
   "cell_type": "code",
   "execution_count": 171,
   "id": "4c737264",
   "metadata": {},
   "outputs": [],
   "source": [
    "x1 = np.sort(array_sort_2d)"
   ]
  },
  {
   "cell_type": "code",
   "execution_count": 172,
   "id": "41c6c5b5",
   "metadata": {},
   "outputs": [
    {
     "data": {
      "text/plain": [
       "array([[0, 1, 5],\n",
       "       [3, 6, 9]])"
      ]
     },
     "execution_count": 172,
     "metadata": {},
     "output_type": "execute_result"
    }
   ],
   "source": [
    "x1"
   ]
  },
  {
   "cell_type": "code",
   "execution_count": 174,
   "id": "fb699af3",
   "metadata": {},
   "outputs": [],
   "source": [
    "# ----------------------NumPy’s Structured Array-----------------------\n",
    "\n",
    "# • Numpy’s Structured Array is similar to Struct in C programming language. \n",
    "# It is used in order to group data of different sizes and types\n",
    "\n",
    "# • Data containers named as fields are used by the structured array. \n",
    "# Every data field can contain data of any size and type. With the help of dot notation, array elements can be accessed\n",
    "\n",
    "# Structured Array Properties\n",
    "\n",
    "# • All structs in the array have the similar number of fields\n",
    "\n",
    "# • All structs have same fields names\n",
    "\n",
    "# • For instance, consider a student's structured array with different fields such as year,name, and marks\n",
    "\n",
    "# • Every record in array student has a structure of class Struct. \n",
    "# Moreover, the array of a structure is referred to as struct as adding any new fields \n",
    "# for a new struct in the array, contains the empty array"
   ]
  },
  {
   "cell_type": "code",
   "execution_count": 176,
   "id": "56018276",
   "metadata": {},
   "outputs": [],
   "source": [
    "import numpy as np"
   ]
  },
  {
   "cell_type": "code",
   "execution_count": 177,
   "id": "aaa50c1a",
   "metadata": {},
   "outputs": [],
   "source": [
    "a1 = np.array([('Stephen', 2022, 9.23), ('Masha', 2021, 8.13), ('Stefani', 2011, 9.76)], \n",
    "             dtype = [('name', (np.str_, 10)), ('year', np.int32), ('cgpa', np.float64)])"
   ]
  },
  {
   "cell_type": "code",
   "execution_count": 178,
   "id": "4948fcdc",
   "metadata": {},
   "outputs": [
    {
     "data": {
      "text/plain": [
       "array([('Stephen', 2022, 9.23), ('Masha', 2021, 8.13),\n",
       "       ('Stefani', 2011, 9.76)],\n",
       "      dtype=[('name', '<U10'), ('year', '<i4'), ('cgpa', '<f8')])"
      ]
     },
     "execution_count": 178,
     "metadata": {},
     "output_type": "execute_result"
    }
   ],
   "source": [
    "a1"
   ]
  },
  {
   "cell_type": "code",
   "execution_count": 179,
   "id": "e9bfeba3",
   "metadata": {},
   "outputs": [
    {
     "name": "stdout",
     "output_type": "stream",
     "text": [
      "[('Stephen', 2022, 9.23) ('Masha', 2021, 8.13) ('Stefani', 2011, 9.76)]\n"
     ]
    }
   ],
   "source": [
    "print(a1)"
   ]
  },
  {
   "cell_type": "code",
   "execution_count": 180,
   "id": "c1eb62b3",
   "metadata": {},
   "outputs": [],
   "source": [
    "b = np.sort(a1, order='name')"
   ]
  },
  {
   "cell_type": "code",
   "execution_count": 181,
   "id": "2cd25267",
   "metadata": {},
   "outputs": [
    {
     "data": {
      "text/plain": [
       "array([('Masha', 2021, 8.13), ('Stefani', 2011, 9.76),\n",
       "       ('Stephen', 2022, 9.23)],\n",
       "      dtype=[('name', '<U10'), ('year', '<i4'), ('cgpa', '<f8')])"
      ]
     },
     "execution_count": 181,
     "metadata": {},
     "output_type": "execute_result"
    }
   ],
   "source": [
    "b"
   ]
  },
  {
   "cell_type": "code",
   "execution_count": 182,
   "id": "76551681",
   "metadata": {},
   "outputs": [],
   "source": [
    "z = np.sort(a1, order='cgpa')"
   ]
  },
  {
   "cell_type": "code",
   "execution_count": 185,
   "id": "c2f8950e",
   "metadata": {},
   "outputs": [
    {
     "data": {
      "text/plain": [
       "array([('Masha', 2021, 8.13), ('Stephen', 2022, 9.23),\n",
       "       ('Stefani', 2011, 9.76)],\n",
       "      dtype=[('name', '<U10'), ('year', '<i4'), ('cgpa', '<f8')])"
      ]
     },
     "execution_count": 185,
     "metadata": {},
     "output_type": "execute_result"
    }
   ],
   "source": [
    "z"
   ]
  },
  {
   "cell_type": "code",
   "execution_count": 186,
   "id": "079143aa",
   "metadata": {},
   "outputs": [],
   "source": [
    "e = np.sort(a1, order='year')"
   ]
  },
  {
   "cell_type": "code",
   "execution_count": 188,
   "id": "83e41280",
   "metadata": {},
   "outputs": [
    {
     "data": {
      "text/plain": [
       "array([('Stefani', 2011, 9.76), ('Masha', 2021, 8.13),\n",
       "       ('Stephen', 2022, 9.23)],\n",
       "      dtype=[('name', '<U10'), ('year', '<i4'), ('cgpa', '<f8')])"
      ]
     },
     "execution_count": 188,
     "metadata": {},
     "output_type": "execute_result"
    }
   ],
   "source": [
    "e"
   ]
  },
  {
   "cell_type": "code",
   "execution_count": 189,
   "id": "720f789e",
   "metadata": {},
   "outputs": [
    {
     "data": {
      "text/plain": [
       "('Stefani', 2011, 9.76)"
      ]
     },
     "execution_count": 189,
     "metadata": {},
     "output_type": "execute_result"
    }
   ],
   "source": [
    "e[0]"
   ]
  }
 ],
 "metadata": {
  "kernelspec": {
   "display_name": "Python 3 (ipykernel)",
   "language": "python",
   "name": "python3"
  },
  "language_info": {
   "codemirror_mode": {
    "name": "ipython",
    "version": 3
   },
   "file_extension": ".py",
   "mimetype": "text/x-python",
   "name": "python",
   "nbconvert_exporter": "python",
   "pygments_lexer": "ipython3",
   "version": "3.9.7"
  },
  "toc": {
   "base_numbering": 1,
   "nav_menu": {},
   "number_sections": true,
   "sideBar": true,
   "skip_h1_title": false,
   "title_cell": "Table of Contents",
   "title_sidebar": "Contents",
   "toc_cell": false,
   "toc_position": {},
   "toc_section_display": true,
   "toc_window_display": false
  }
 },
 "nbformat": 4,
 "nbformat_minor": 5
}
